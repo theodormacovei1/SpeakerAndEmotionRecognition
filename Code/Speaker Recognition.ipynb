{
 "cells": [
  {
   "cell_type": "markdown",
   "metadata": {},
   "source": [
    "# Speaker recognition "
   ]
  },
  {
   "cell_type": "markdown",
   "metadata": {},
   "source": [
    "Import Libraries"
   ]
  },
  {
   "cell_type": "code",
   "execution_count": 24,
   "metadata": {},
   "outputs": [],
   "source": [
    "import numpy as np\n",
    "import tensorflow as tf\n",
    "from tensorflow.keras import datasets, layers, models\n",
    "import sklearn.model_selection as sk\n",
    "import glob\n",
    "import os\n",
    "import sounddevice as sd\n",
    "import librosa\n",
    "import librosa.display\n",
    "from scipy.io.wavfile import write\n",
    "from scipy.io.wavfile import read\n",
    "import matplotlib.pyplot as plt\n",
    "\n",
    "from keras.regularizers import l2"
   ]
  },
  {
   "cell_type": "markdown",
   "metadata": {},
   "source": [
    "Parameters"
   ]
  },
  {
   "cell_type": "code",
   "execution_count": 25,
   "metadata": {},
   "outputs": [],
   "source": [
    "fs = 44100\n",
    "no_mfcc=20\n",
    "max_len=300"
   ]
  },
  {
   "cell_type": "markdown",
   "metadata": {},
   "source": [
    "Custom dataset\n",
    "\n",
    "Load files. Extract features"
   ]
  },
  {
   "cell_type": "code",
   "execution_count": 26,
   "metadata": {},
   "outputs": [],
   "source": [
    "x=[]\n",
    "\n",
    "y1=[]\n",
    "\n",
    "for file in glob.glob(\"C:\\\\Users\\\\tmacovei001\\\\Desktop\\\\Speaker Recognition\\\\Datasets\\\\Custom\\\\All\\\\*\"):\n",
    "    basename=os.path.basename(file)\n",
    "    person=basename.split(\"_\")[1]\n",
    "    y1.append(int(person))\n",
    "    file_temp,fs_temp=librosa.load(file, sr=fs)\n",
    "    mfcc_features=librosa.feature.mfcc(file_temp,sr=fs, S=None, n_mfcc=20)\n",
    "    if (max_len > mfcc_features.shape[1]):\n",
    "        pad_width = max_len - mfcc_features.shape[1]\n",
    "        mfcc_features = np.pad(mfcc_features, pad_width=((0, 0), (0, pad_width)), mode='constant')\n",
    "    else:\n",
    "        mfcc_features = mfcc_features[:, :max_len]\n",
    "    x.append(mfcc_features)"
   ]
  },
  {
   "cell_type": "markdown",
   "metadata": {},
   "source": [
    "RAVDESS Dataset\n",
    "\n",
    "Load files. Extract features"
   ]
  },
  {
   "cell_type": "code",
   "execution_count": 185,
   "metadata": {},
   "outputs": [],
   "source": [
    "x=[]\n",
    "y =[]\n",
    "\n",
    "y1=[]\n",
    "\n",
    "for file in glob.glob(\"C:\\\\Users\\\\tmacovei001\\\\Desktop\\\\Speaker Recognition\\\\Datasets\\\\Ravdess\\\\All\\\\*\"):\n",
    "    basename=os.path.basename(file)\n",
    "    emotion=basename.split(\"-\")[2]\n",
    "    person=basename.split(\"-\")[6]\n",
    "    person=person.split(\".\")[0]\n",
    "    phrase=basename.split(\"-\")[4]\n",
    "    repetition=basename.split(\"-\")[5]\n",
    "    if(int(person)==1):\n",
    "        y1.append(0)\n",
    "        file_temp,fs_temp=librosa.load(file, sr=fs)\n",
    "        #mfcc_features=librosa.feature.melspectrogram(file_temp,sr=fs,  n_mels=128, fmax=8000)\n",
    "        mfcc_features=librosa.feature.mfcc(file_temp,sr=fs, S=None, n_mfcc=20)\n",
    "        if (max_len > mfcc_features.shape[1]):\n",
    "            pad_width = max_len - mfcc_features.shape[1]\n",
    "            mfcc_features = np.pad(mfcc_features, pad_width=((0, 0), (0, pad_width)), mode='constant')\n",
    "        else:\n",
    "            mfcc_features = mfcc_features[:, :max_len]\n",
    "        x.append(mfcc_features)\n",
    "        \n",
    "    if(int(person)==3):\n",
    "        y1.append(1)\n",
    "        file_temp,fs_temp=librosa.load(file, sr=fs)\n",
    "        #mfcc_features=librosa.feature.melspectrogram(file_temp,sr=fs,  n_mels=128, fmax=8000)\n",
    "        mfcc_features=librosa.feature.mfcc(file_temp,sr=fs, S=None, n_mfcc=20)\n",
    "        if (max_len > mfcc_features.shape[1]):\n",
    "            pad_width = max_len - mfcc_features.shape[1]\n",
    "            mfcc_features = np.pad(mfcc_features, pad_width=((0, 0), (0, pad_width)), mode='constant')\n",
    "        else:\n",
    "            mfcc_features = mfcc_features[:, :max_len]\n",
    "        x.append(mfcc_features)        \n"
   ]
  },
  {
   "cell_type": "code",
   "execution_count": 27,
   "metadata": {},
   "outputs": [
    {
     "data": {
      "text/plain": [
       "(228, 20, 300)"
      ]
     },
     "execution_count": 27,
     "metadata": {},
     "output_type": "execute_result"
    }
   ],
   "source": [
    "x=np.array(x)\n",
    "y1=np.array(y1)\n",
    "x.shape"
   ]
  },
  {
   "cell_type": "code",
   "execution_count": 35,
   "metadata": {},
   "outputs": [],
   "source": [
    "#Note that mfcc operation returns (n_mfcc, time). \n",
    "#You have to do an axis permutation to get it to (time, n_mfcc) format. \n",
    "#So that the convolution happens on the time dimension."
   ]
  },
  {
   "cell_type": "code",
   "execution_count": 36,
   "metadata": {},
   "outputs": [],
   "source": [
    "##Normalize!!"
   ]
  },
  {
   "cell_type": "markdown",
   "metadata": {},
   "source": [
    "Model"
   ]
  },
  {
   "cell_type": "markdown",
   "metadata": {},
   "source": [
    "Model parameters"
   ]
  },
  {
   "cell_type": "code",
   "execution_count": 28,
   "metadata": {},
   "outputs": [],
   "source": [
    "no_classes=max(y1)+1\n",
    "no_channels=1\n",
    "\n",
    "x_reshape=(x.shape[0],20,x.shape[2],no_channels)\n",
    "input_shape=(20,x.shape[2],no_channels)"
   ]
  },
  {
   "cell_type": "markdown",
   "metadata": {},
   "source": [
    "Create model"
   ]
  },
  {
   "cell_type": "code",
   "execution_count": 29,
   "metadata": {},
   "outputs": [],
   "source": [
    "x = x.reshape(x_reshape)\n",
    "\n",
    "x_train, x_test, y1_train, y1_test = sk.train_test_split(x,y1,test_size=0.3)\n",
    "y1_train = tf.keras.utils.to_categorical(y1_train,num_classes=no_classes)\n",
    "y1_test = tf.keras.utils.to_categorical(y1_test,num_classes=no_classes)"
   ]
  },
  {
   "cell_type": "code",
   "execution_count": 30,
   "metadata": {},
   "outputs": [
    {
     "data": {
      "text/plain": [
       "(159, 20, 300, 1)"
      ]
     },
     "execution_count": 30,
     "metadata": {},
     "output_type": "execute_result"
    }
   ],
   "source": [
    "x_train.shape"
   ]
  },
  {
   "cell_type": "code",
   "execution_count": 31,
   "metadata": {},
   "outputs": [],
   "source": [
    "model = models.Sequential()\n",
    "model.add(layers.Conv2D(32, kernel_size=(2, 2), kernel_regularizer=l2(0.001),bias_regularizer=l2(0.001),activation='relu', input_shape=input_shape))\n",
    "model.add(layers.MaxPooling2D(pool_size=(2, 2)))\n",
    "model.add(layers.Dropout(0.5))\n",
    "\n",
    "\n",
    "\n",
    "model.add(layers.Conv2D(48, kernel_size=(2, 2),kernel_regularizer=l2(0.001), bias_regularizer=l2(0.001), activation='relu'))\n",
    "model.add(layers.MaxPooling2D(pool_size=(2, 2)))\n",
    "model.add(layers.Dropout(0.5))\n",
    "\n",
    "\n",
    "\n",
    "\n",
    "model.add(layers.Flatten())\n",
    "\n",
    "model.add(layers.Dense(no_classes, activation='softmax'))\n"
   ]
  },
  {
   "cell_type": "code",
   "execution_count": 32,
   "metadata": {},
   "outputs": [
    {
     "name": "stdout",
     "output_type": "stream",
     "text": [
      "Model: \"sequential_2\"\n",
      "_________________________________________________________________\n",
      "Layer (type)                 Output Shape              Param #   \n",
      "=================================================================\n",
      "conv2d_2 (Conv2D)            (None, 19, 299, 32)       160       \n",
      "_________________________________________________________________\n",
      "max_pooling2d_2 (MaxPooling2 (None, 9, 149, 32)        0         \n",
      "_________________________________________________________________\n",
      "dropout_2 (Dropout)          (None, 9, 149, 32)        0         \n",
      "_________________________________________________________________\n",
      "conv2d_3 (Conv2D)            (None, 8, 148, 48)        6192      \n",
      "_________________________________________________________________\n",
      "max_pooling2d_3 (MaxPooling2 (None, 4, 74, 48)         0         \n",
      "_________________________________________________________________\n",
      "dropout_3 (Dropout)          (None, 4, 74, 48)         0         \n",
      "_________________________________________________________________\n",
      "flatten_1 (Flatten)          (None, 14208)             0         \n",
      "_________________________________________________________________\n",
      "dense_1 (Dense)              (None, 5)                 71045     \n",
      "=================================================================\n",
      "Total params: 77,397\n",
      "Trainable params: 77,397\n",
      "Non-trainable params: 0\n",
      "_________________________________________________________________\n"
     ]
    }
   ],
   "source": [
    "model.summary()"
   ]
  },
  {
   "cell_type": "code",
   "execution_count": null,
   "metadata": {},
   "outputs": [],
   "source": []
  },
  {
   "cell_type": "code",
   "execution_count": null,
   "metadata": {},
   "outputs": [],
   "source": []
  },
  {
   "cell_type": "markdown",
   "metadata": {},
   "source": [
    "Compile model"
   ]
  },
  {
   "cell_type": "code",
   "execution_count": 33,
   "metadata": {},
   "outputs": [],
   "source": [
    "\n",
    "optimizer = tf.keras.optimizers.Adam(lr=0.001)\n",
    "model.compile(optimizer=optimizer,\n",
    "              loss=tf.keras.losses.categorical_crossentropy,\n",
    "              metrics=['accuracy'])\n"
   ]
  },
  {
   "cell_type": "markdown",
   "metadata": {},
   "source": [
    "Train model"
   ]
  },
  {
   "cell_type": "code",
   "execution_count": 34,
   "metadata": {},
   "outputs": [
    {
     "name": "stdout",
     "output_type": "stream",
     "text": [
      "Epoch 1/45\n",
      "5/5 [==============================] - 1s 142ms/step - loss: 58.3081 - accuracy: 0.2516 - val_loss: 14.6282 - val_accuracy: 0.3478\n",
      "Epoch 2/45\n",
      "5/5 [==============================] - 1s 117ms/step - loss: 59.4098 - accuracy: 0.3082 - val_loss: 13.6832 - val_accuracy: 0.4638\n",
      "Epoch 3/45\n",
      "5/5 [==============================] - 0s 91ms/step - loss: 36.4325 - accuracy: 0.3774 - val_loss: 6.3690 - val_accuracy: 0.4058\n",
      "Epoch 4/45\n",
      "5/5 [==============================] - 1s 105ms/step - loss: 23.5508 - accuracy: 0.3648 - val_loss: 3.8807 - val_accuracy: 0.5652\n",
      "Epoch 5/45\n",
      "5/5 [==============================] - 0s 96ms/step - loss: 20.5930 - accuracy: 0.5660 - val_loss: 3.3087 - val_accuracy: 0.5217\n",
      "Epoch 6/45\n",
      "5/5 [==============================] - 0s 94ms/step - loss: 19.7154 - accuracy: 0.4591 - val_loss: 6.1050 - val_accuracy: 0.2609\n",
      "Epoch 7/45\n",
      "5/5 [==============================] - 1s 101ms/step - loss: 18.1112 - accuracy: 0.4843 - val_loss: 1.9136 - val_accuracy: 0.5507\n",
      "Epoch 8/45\n",
      "5/5 [==============================] - 0s 82ms/step - loss: 12.6368 - accuracy: 0.5094 - val_loss: 3.4235 - val_accuracy: 0.4348\n",
      "Epoch 9/45\n",
      "5/5 [==============================] - 1s 116ms/step - loss: 13.4075 - accuracy: 0.5094 - val_loss: 2.5929 - val_accuracy: 0.5217\n",
      "Epoch 10/45\n",
      "5/5 [==============================] - 0s 84ms/step - loss: 8.7093 - accuracy: 0.5975 - val_loss: 1.7939 - val_accuracy: 0.5942\n",
      "Epoch 11/45\n",
      "5/5 [==============================] - 0s 99ms/step - loss: 7.2977 - accuracy: 0.5912 - val_loss: 2.2941 - val_accuracy: 0.5652\n",
      "Epoch 12/45\n",
      "5/5 [==============================] - 1s 106ms/step - loss: 8.8240 - accuracy: 0.5346 - val_loss: 2.6501 - val_accuracy: 0.4928\n",
      "Epoch 13/45\n",
      "5/5 [==============================] - 0s 86ms/step - loss: 3.7737 - accuracy: 0.7233 - val_loss: 1.4526 - val_accuracy: 0.6957\n",
      "Epoch 14/45\n",
      "5/5 [==============================] - 1s 112ms/step - loss: 5.5233 - accuracy: 0.6918 - val_loss: 1.1939 - val_accuracy: 0.7391\n",
      "Epoch 15/45\n",
      "5/5 [==============================] - 0s 85ms/step - loss: 4.3745 - accuracy: 0.6981 - val_loss: 1.8267 - val_accuracy: 0.6667\n",
      "Epoch 16/45\n",
      "5/5 [==============================] - 1s 108ms/step - loss: 2.6100 - accuracy: 0.7610 - val_loss: 1.9221 - val_accuracy: 0.6667\n",
      "Epoch 17/45\n",
      "5/5 [==============================] - 0s 98ms/step - loss: 3.6067 - accuracy: 0.7170 - val_loss: 1.7146 - val_accuracy: 0.7101\n",
      "Epoch 18/45\n",
      "5/5 [==============================] - 0s 84ms/step - loss: 3.3344 - accuracy: 0.7421 - val_loss: 1.4214 - val_accuracy: 0.7681\n",
      "Epoch 19/45\n",
      "5/5 [==============================] - 1s 101ms/step - loss: 2.1475 - accuracy: 0.7547 - val_loss: 1.0671 - val_accuracy: 0.8116\n",
      "Epoch 20/45\n",
      "5/5 [==============================] - 0s 83ms/step - loss: 2.0629 - accuracy: 0.8365 - val_loss: 1.3849 - val_accuracy: 0.7681\n",
      "Epoch 21/45\n",
      "5/5 [==============================] - 1s 115ms/step - loss: 1.5930 - accuracy: 0.8428 - val_loss: 1.5914 - val_accuracy: 0.7681\n",
      "Epoch 22/45\n",
      "5/5 [==============================] - 0s 94ms/step - loss: 1.6935 - accuracy: 0.8491 - val_loss: 1.6341 - val_accuracy: 0.7101\n",
      "Epoch 23/45\n",
      "5/5 [==============================] - 0s 95ms/step - loss: 1.5740 - accuracy: 0.8428 - val_loss: 1.2191 - val_accuracy: 0.7971\n",
      "Epoch 24/45\n",
      "5/5 [==============================] - 0s 88ms/step - loss: 1.1373 - accuracy: 0.8742 - val_loss: 0.9872 - val_accuracy: 0.8551\n",
      "Epoch 25/45\n",
      "5/5 [==============================] - 0s 90ms/step - loss: 1.3983 - accuracy: 0.8742 - val_loss: 1.2234 - val_accuracy: 0.8261\n",
      "Epoch 26/45\n",
      "5/5 [==============================] - 0s 91ms/step - loss: 1.1083 - accuracy: 0.8805 - val_loss: 1.7005 - val_accuracy: 0.7246\n",
      "Epoch 27/45\n",
      "5/5 [==============================] - 0s 81ms/step - loss: 0.7191 - accuracy: 0.8994 - val_loss: 1.8485 - val_accuracy: 0.7246\n",
      "Epoch 28/45\n",
      "5/5 [==============================] - 0s 100ms/step - loss: 0.9112 - accuracy: 0.8868 - val_loss: 1.6576 - val_accuracy: 0.7971\n",
      "Epoch 29/45\n",
      "5/5 [==============================] - 0s 90ms/step - loss: 0.9217 - accuracy: 0.8805 - val_loss: 1.0979 - val_accuracy: 0.8551\n",
      "Epoch 30/45\n",
      "5/5 [==============================] - 0s 96ms/step - loss: 0.5960 - accuracy: 0.9119 - val_loss: 1.0764 - val_accuracy: 0.8551\n",
      "Epoch 31/45\n",
      "5/5 [==============================] - 0s 90ms/step - loss: 0.6871 - accuracy: 0.8994 - val_loss: 1.1055 - val_accuracy: 0.8261\n",
      "Epoch 32/45\n",
      "5/5 [==============================] - 0s 97ms/step - loss: 0.8853 - accuracy: 0.8994 - val_loss: 2.0482 - val_accuracy: 0.7391\n",
      "Epoch 33/45\n",
      "5/5 [==============================] - 1s 101ms/step - loss: 1.2153 - accuracy: 0.8994 - val_loss: 1.5316 - val_accuracy: 0.8116\n",
      "Epoch 34/45\n",
      "5/5 [==============================] - 0s 89ms/step - loss: 0.3917 - accuracy: 0.9434 - val_loss: 1.1627 - val_accuracy: 0.7681\n",
      "Epoch 35/45\n",
      "5/5 [==============================] - 0s 94ms/step - loss: 0.5645 - accuracy: 0.9119 - val_loss: 1.0039 - val_accuracy: 0.8116\n",
      "Epoch 36/45\n",
      "5/5 [==============================] - 0s 84ms/step - loss: 0.4929 - accuracy: 0.9371 - val_loss: 1.2733 - val_accuracy: 0.8406\n",
      "Epoch 37/45\n",
      "5/5 [==============================] - 1s 103ms/step - loss: 0.3721 - accuracy: 0.9434 - val_loss: 1.4452 - val_accuracy: 0.8261\n",
      "Epoch 38/45\n",
      "5/5 [==============================] - 0s 93ms/step - loss: 0.4144 - accuracy: 0.9434 - val_loss: 1.4565 - val_accuracy: 0.8116\n",
      "Epoch 39/45\n",
      "5/5 [==============================] - 0s 97ms/step - loss: 0.3283 - accuracy: 0.9623 - val_loss: 1.3550 - val_accuracy: 0.8116\n",
      "Epoch 40/45\n",
      "5/5 [==============================] - 0s 88ms/step - loss: 0.2932 - accuracy: 0.9497 - val_loss: 1.2733 - val_accuracy: 0.8406\n",
      "Epoch 41/45\n",
      "5/5 [==============================] - 0s 95ms/step - loss: 0.2731 - accuracy: 0.9686 - val_loss: 1.0921 - val_accuracy: 0.8406\n",
      "Epoch 42/45\n",
      "5/5 [==============================] - 0s 95ms/step - loss: 0.4525 - accuracy: 0.9245 - val_loss: 1.4721 - val_accuracy: 0.8261\n",
      "Epoch 43/45\n",
      "5/5 [==============================] - 0s 89ms/step - loss: 0.2514 - accuracy: 0.9497 - val_loss: 1.4740 - val_accuracy: 0.8116\n",
      "Epoch 44/45\n",
      "5/5 [==============================] - 1s 103ms/step - loss: 0.4968 - accuracy: 0.9497 - val_loss: 1.4069 - val_accuracy: 0.8116\n",
      "Epoch 45/45\n",
      "5/5 [==============================] - 0s 90ms/step - loss: 0.1760 - accuracy: 0.9811 - val_loss: 1.2104 - val_accuracy: 0.8116\n"
     ]
    }
   ],
   "source": [
    "history = model.fit(x_train, y1_train, epochs=45,verbose=1, validation_data=(x_test,y1_test))"
   ]
  },
  {
   "cell_type": "markdown",
   "metadata": {},
   "source": [
    "## Evaluate model"
   ]
  },
  {
   "cell_type": "code",
   "execution_count": 35,
   "metadata": {},
   "outputs": [
    {
     "name": "stdout",
     "output_type": "stream",
     "text": [
      "3/3 - 0s - loss: 1.2104 - accuracy: 0.8116\n",
      "\n",
      "Test accuracy: 0.8115941882133484\n"
     ]
    }
   ],
   "source": [
    "test_loss, test_acc = model.evaluate(x_test,  y1_test, verbose=2)\n",
    "\n",
    "print('\\nTest accuracy:', test_acc)"
   ]
  },
  {
   "cell_type": "code",
   "execution_count": 36,
   "metadata": {},
   "outputs": [
    {
     "data": {
      "text/plain": [
       "[<matplotlib.lines.Line2D at 0x22b2348ef08>]"
      ]
     },
     "execution_count": 36,
     "metadata": {},
     "output_type": "execute_result"
    },
    {
     "data": {
      "image/png": "[encoded data removed]",
      "text/plain": [
       "<Figure size 432x288 with 1 Axes>"
      ]
     },
     "metadata": {
      "needs_background": "light"
     },
     "output_type": "display_data"
    }
   ],
   "source": [
    "plt.plot(history.history['accuracy'])\n",
    "plt.plot(history.history['val_accuracy'])"
   ]
  },
  {
   "cell_type": "code",
   "execution_count": 37,
   "metadata": {},
   "outputs": [
    {
     "data": {
      "text/plain": [
       "[<matplotlib.lines.Line2D at 0x22b23465d88>]"
      ]
     },
     "execution_count": 37,
     "metadata": {},
     "output_type": "execute_result"
    },
    {
     "data": {
      "image/png": "[encoded data removed]",
      "text/plain": [
       "<Figure size 432x288 with 1 Axes>"
      ]
     },
     "metadata": {
      "needs_background": "light"
     },
     "output_type": "display_data"
    }
   ],
   "source": [
    "plt.plot(history.history['loss'])\n",
    "plt.plot(history.history['val_loss'])\n"
   ]
  },
  {
   "cell_type": "markdown",
   "metadata": {},
   "source": [
    "file=\"C:\\\\Users\\\\tmacovei001\\\\Desktop\\\\Speaker Recognition\\\\Code\\\\voice_01_1_neutral.wav\""
   ]
  },
  {
   "cell_type": "markdown",
   "metadata": {},
   "source": [
    "file_temp,fs_temp=librosa.load(file, sr=fs)\n",
    "mfcc_test=librosa.feature.mfcc(file_temp,sr=fs, S=None, n_mfcc=no_mfcc)\n",
    "if (max_len > mfcc_test.shape[1]):\n",
    "    pad_width = max_len - mfcc_test.shape[1]\n",
    "    mfcc_test = np.pad(mfcc_test, pad_width=((0, 0), (0, pad_width)), mode='constant')\n",
    "else:\n",
    "    mfcc_test = mfcc_test[:, :max_len]\n",
    "\n",
    "mfcc_test=mfcc_test.reshape((1,20,x.shape[2],no_channels))"
   ]
  },
  {
   "cell_type": "code",
   "execution_count": 38,
   "metadata": {},
   "outputs": [
    {
     "name": "stdout",
     "output_type": "stream",
     "text": [
      "[0, 4, 4, 1, 2, 0, 2, 4, 3, 0, 0, 1, 4, 1, 2, 0, 2, 1, 4, 4, 0, 1, 1, 4, 0, 1, 0, 3, 4, 0, 0, 4, 4, 0, 4, 2, 4, 3, 4, 4, 0, 1, 2, 2, 0, 1, 0, 4, 2, 4, 2, 2, 0, 2, 4, 0, 0, 4, 4, 4, 2, 2, 4, 3, 0, 2, 0, 2, 0]\n",
      "[0 4 4 1 2 0 2 4 3 2 1 4 4 1 2 3 2 1 4 2 0 1 1 2 0 1 0 3 4 0 0 4 4 0 1 2 4\n",
      " 3 4 4 0 1 2 2 3 1 3 4 2 2 2 2 0 2 2 0 0 4 1 4 2 2 2 3 0 2 0 2 0]\n"
     ]
    }
   ],
   "source": [
    "probability_model = tf.keras.Sequential([model, \n",
    "                                         tf.keras.layers.Softmax()])\n",
    "predictions = probability_model.predict(x_test)\n",
    "\n",
    "ypred=[]\n",
    "for i in range(0,len(predictions)):\n",
    "    ypred.append(np.argmax(predictions[i]))\n",
    "y_pred=np.array(ypred)    \n",
    "print(ypred)\n",
    "y_true=np.argmax(y1_test, axis=1)\n",
    "print(y_true)"
   ]
  },
  {
   "cell_type": "code",
   "execution_count": 39,
   "metadata": {},
   "outputs": [],
   "source": [
    "from sklearn.metrics import f1_score, precision_score, recall_score, roc_auc_score"
   ]
  },
  {
   "cell_type": "code",
   "execution_count": 40,
   "metadata": {},
   "outputs": [
    {
     "data": {
      "text/plain": [
       "0.8115942028985508"
      ]
     },
     "execution_count": 40,
     "metadata": {},
     "output_type": "execute_result"
    }
   ],
   "source": [
    "f1_score(y_true, y_pred, average='micro')"
   ]
  },
  {
   "cell_type": "code",
   "execution_count": 41,
   "metadata": {},
   "outputs": [
    {
     "data": {
      "text/plain": [
       "0.7991053391053391"
      ]
     },
     "execution_count": 41,
     "metadata": {},
     "output_type": "execute_result"
    }
   ],
   "source": [
    "f1_score(y_true, y_pred, average='macro')"
   ]
  },
  {
   "cell_type": "code",
   "execution_count": 42,
   "metadata": {},
   "outputs": [
    {
     "data": {
      "text/plain": [
       "0.8115942028985508"
      ]
     },
     "execution_count": 42,
     "metadata": {},
     "output_type": "execute_result"
    }
   ],
   "source": [
    "precision_score(y_true, y_pred, average='micro')"
   ]
  },
  {
   "cell_type": "code",
   "execution_count": 43,
   "metadata": {},
   "outputs": [
    {
     "data": {
      "text/plain": [
       "0.861111111111111"
      ]
     },
     "execution_count": 43,
     "metadata": {},
     "output_type": "execute_result"
    }
   ],
   "source": [
    "precision_score(y_true, y_pred, average='macro')"
   ]
  },
  {
   "cell_type": "code",
   "execution_count": 44,
   "metadata": {},
   "outputs": [
    {
     "data": {
      "text/plain": [
       "0.8115942028985508"
      ]
     },
     "execution_count": 44,
     "metadata": {},
     "output_type": "execute_result"
    }
   ],
   "source": [
    "recall_score(y_true, y_pred, average='micro')"
   ]
  },
  {
   "cell_type": "code",
   "execution_count": 45,
   "metadata": {},
   "outputs": [
    {
     "data": {
      "text/plain": [
       "0.7892640692640693"
      ]
     },
     "execution_count": 45,
     "metadata": {},
     "output_type": "execute_result"
    }
   ],
   "source": [
    "recall_score(y_true, y_pred, average='macro')"
   ]
  },
  {
   "cell_type": "code",
   "execution_count": null,
   "metadata": {},
   "outputs": [],
   "source": []
  },
  {
   "cell_type": "code",
   "execution_count": 49,
   "metadata": {},
   "outputs": [
    {
     "name": "stdout",
     "output_type": "stream",
     "text": [
      "INFO:tensorflow:Assets written to: person_model\\assets\n"
     ]
    }
   ],
   "source": [
    "model.save('person_model')"
   ]
  },
  {
   "cell_type": "code",
   "execution_count": null,
   "metadata": {},
   "outputs": [],
   "source": []
  },
  {
   "cell_type": "code",
   "execution_count": 238,
   "metadata": {},
   "outputs": [
    {
     "data": {
      "image/png": "[encoded data removed]",
      "text/plain": [
       "<Figure size 432x288 with 1 Axes>"
      ]
     },
     "metadata": {},
     "output_type": "display_data"
    }
   ],
   "source": [
    "i = 0\n",
    "thisplot = plt.bar(range(5), 100*predictions[0])\n",
    "\n",
    "\n",
    "plt.show()"
   ]
  },
  {
   "cell_type": "code",
   "execution_count": 27,
   "metadata": {},
   "outputs": [],
   "source": [
    "import pickle"
   ]
  },
  {
   "cell_type": "code",
   "execution_count": 30,
   "metadata": {},
   "outputs": [
    {
     "ename": "TypeError",
     "evalue": "can't pickle _thread.RLock objects",
     "output_type": "error",
     "traceback": [
      "\u001b[1;31m---------------------------------------------------------------------------\u001b[0m",
      "\u001b[1;31mTypeError\u001b[0m                                 Traceback (most recent call last)",
      "\u001b[1;32m<ipython-input-30-28ec69801117>\u001b[0m in \u001b[0;36m<module>\u001b[1;34m\u001b[0m\n\u001b[0;32m      1\u001b[0m \u001b[1;32mwith\u001b[0m \u001b[0mopen\u001b[0m \u001b[1;33m(\u001b[0m\u001b[1;34m'person_model.pickle'\u001b[0m\u001b[1;33m,\u001b[0m\u001b[1;34m'wb'\u001b[0m\u001b[1;33m)\u001b[0m \u001b[1;32mas\u001b[0m \u001b[0mf\u001b[0m\u001b[1;33m:\u001b[0m\u001b[1;33m\u001b[0m\u001b[1;33m\u001b[0m\u001b[0m\n\u001b[1;32m----> 2\u001b[1;33m     \u001b[0mpickle\u001b[0m\u001b[1;33m.\u001b[0m\u001b[0mdump\u001b[0m\u001b[1;33m(\u001b[0m\u001b[0mmodel\u001b[0m\u001b[1;33m,\u001b[0m\u001b[0mf\u001b[0m\u001b[1;33m)\u001b[0m\u001b[1;33m\u001b[0m\u001b[1;33m\u001b[0m\u001b[0m\n\u001b[0m",
      "\u001b[1;31mTypeError\u001b[0m: can't pickle _thread.RLock objects"
     ]
    }
   ],
   "source": [
    "with open ('person_model.pickle','wb') as f:\n",
    "    pickle.dump(model,f)"
   ]
  },
  {
   "cell_type": "code",
   "execution_count": null,
   "metadata": {},
   "outputs": [],
   "source": []
  },
  {
   "cell_type": "code",
   "execution_count": null,
   "metadata": {},
   "outputs": [],
   "source": []
  },
  {
   "cell_type": "code",
   "execution_count": 16,
   "metadata": {},
   "outputs": [
    {
     "ename": "NameError",
     "evalue": "name 'predictions' is not defined",
     "output_type": "error",
     "traceback": [
      "\u001b[1;31m---------------------------------------------------------------------------\u001b[0m",
      "\u001b[1;31mNameError\u001b[0m                                 Traceback (most recent call last)",
      "\u001b[1;32m<ipython-input-16-4ba503436d12>\u001b[0m in \u001b[0;36m<module>\u001b[1;34m\u001b[0m\n\u001b[1;32m----> 1\u001b[1;33m \u001b[0mpredictions\u001b[0m\u001b[1;33m[\u001b[0m\u001b[1;36m0\u001b[0m\u001b[1;33m]\u001b[0m\u001b[1;33m\u001b[0m\u001b[1;33m\u001b[0m\u001b[0m\n\u001b[0m",
      "\u001b[1;31mNameError\u001b[0m: name 'predictions' is not defined"
     ]
    }
   ],
   "source": [
    "predictions[0]"
   ]
  },
  {
   "cell_type": "code",
   "execution_count": 46,
   "metadata": {},
   "outputs": [],
   "source": [
    "from sklearn.metrics import confusion_matrix"
   ]
  },
  {
   "cell_type": "code",
   "execution_count": 47,
   "metadata": {},
   "outputs": [],
   "source": [
    "probability_model = tf.keras.Sequential([model, \n",
    "                                         tf.keras.layers.Softmax()])\n",
    "predictions = probability_model.predict(x_test)"
   ]
  },
  {
   "cell_type": "code",
   "execution_count": 48,
   "metadata": {},
   "outputs": [
    {
     "data": {
      "text/plain": [
       "array([[15,  0,  0,  0,  0],\n",
       "       [ 1,  8,  0,  0,  2],\n",
       "       [ 1,  0, 15,  0,  5],\n",
       "       [ 3,  0,  0,  4,  0],\n",
       "       [ 0,  1,  0,  0, 14]], dtype=int64)"
      ]
     },
     "execution_count": 48,
     "metadata": {},
     "output_type": "execute_result"
    }
   ],
   "source": [
    "y_pred = np.argmax(predictions, axis=1)\n",
    "rounded_labels=np.argmax(y1_test, axis=1)\n",
    "rounded_labels[1]\n",
    "\n",
    "cnf_matrix = confusion_matrix(rounded_labels, y_pred)\n",
    "cnf_matrix"
   ]
  },
  {
   "cell_type": "code",
   "execution_count": null,
   "metadata": {},
   "outputs": [],
   "source": []
  },
  {
   "cell_type": "code",
   "execution_count": 221,
   "metadata": {},
   "outputs": [
    {
     "data": {
      "text/plain": [
       "<matplotlib.axes._subplots.AxesSubplot at 0x24ab56dce10>"
      ]
     },
     "execution_count": 221,
     "metadata": {},
     "output_type": "execute_result"
    },
    {
     "data": {
      "image/png": "[encoded data removed]",
      "text/plain": [
       "<Figure size 432x288 with 2 Axes>"
      ]
     },
     "metadata": {},
     "output_type": "display_data"
    }
   ],
   "source": [
    "sns.heatmap(cnf_matrix,annot=True)"
   ]
  },
  {
   "cell_type": "code",
   "execution_count": 1,
   "metadata": {},
   "outputs": [],
   "source": []
  },
  {
   "cell_type": "code",
   "execution_count": null,
   "metadata": {},
   "outputs": [],
   "source": []
  }
 ],
 "metadata": {
  "kernelspec": {
   "display_name": "Python 3",
   "language": "python",
   "name": "python3"
  },
  "language_info": {
   "codemirror_mode": {
    "name": "ipython",
    "version": 3
   },
   "file_extension": ".py",
   "mimetype": "text/x-python",
   "name": "python",
   "nbconvert_exporter": "python",
   "pygments_lexer": "ipython3",
   "version": "3.7.7"
  }
 },
 "nbformat": 4,
 "nbformat_minor": 2
}
