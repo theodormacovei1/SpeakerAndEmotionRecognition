{
 "cells": [
  {
   "cell_type": "markdown",
   "metadata": {},
   "source": [
    "# Speaker recognition "
   ]
  },
  {
   "cell_type": "markdown",
   "metadata": {},
   "source": [
    "Import Libraries"
   ]
  },
  {
   "cell_type": "code",
   "execution_count": 1,
   "metadata": {},
   "outputs": [
    {
     "name": "stderr",
     "output_type": "stream",
     "text": [
      "Using TensorFlow backend.\n"
     ]
    }
   ],
   "source": [
    "import numpy as np\n",
    "import tensorflow as tf\n",
    "from tensorflow.keras import datasets, layers, models\n",
    "import sklearn.model_selection as sk\n",
    "import glob\n",
    "import os\n",
    "import sounddevice as sd\n",
    "import librosa\n",
    "import librosa.display\n",
    "from scipy.io.wavfile import write\n",
    "from scipy.io.wavfile import read\n",
    "import matplotlib.pyplot as plt\n",
    "import seaborn as sns\n",
    "sns.set()\n",
    "from keras.regularizers import l2\n",
    "import pickle"
   ]
  },
  {
   "cell_type": "markdown",
   "metadata": {},
   "source": [
    "Parameters"
   ]
  },
  {
   "cell_type": "code",
   "execution_count": 2,
   "metadata": {},
   "outputs": [],
   "source": [
    "fs = 44100\n",
    "no_mfcc=20\n",
    "max_len=300"
   ]
  },
  {
   "cell_type": "markdown",
   "metadata": {},
   "source": [
    "Custom dataset\n",
    "\n",
    "Load files. Extract features"
   ]
  },
  {
   "cell_type": "code",
   "execution_count": 32,
   "metadata": {},
   "outputs": [],
   "source": [
    "x=[]\n",
    "\n",
    "y1=[]\n",
    "\n",
    "for file in glob.glob(\"C:\\\\Users\\\\tmacovei001\\\\Desktop\\\\Speaker Recognition\\\\Datasets\\\\Custom\\\\All\\\\*\"):\n",
    "    basename=os.path.basename(file)\n",
    "    person=basename.split(\"_\")[1]\n",
    "    y1.append(int(person))\n",
    "    file_temp,fs_temp=librosa.load(file, sr=fs)\n",
    "    mfcc_features=librosa.feature.mfcc(file_temp,sr=fs, S=None, n_mfcc=20)\n",
    "    if (max_len > mfcc_features.shape[1]):\n",
    "        pad_width = max_len - mfcc_features.shape[1]\n",
    "        mfcc_features = np.pad(mfcc_features, pad_width=((0, 0), (0, pad_width)), mode='constant')\n",
    "    else:\n",
    "        mfcc_features = mfcc_features[:, :max_len]\n",
    "    x.append(mfcc_features)\n",
    "    \n",
    "with open('Saved Persons','wb') as f:\n",
    "    pickle.dump(y1,f)\n"
   ]
  },
  {
   "cell_type": "markdown",
   "metadata": {},
   "source": [
    "RAVDESS Dataset\n",
    "\n",
    "Load files. Extract features"
   ]
  },
  {
   "cell_type": "code",
   "execution_count": 3,
   "metadata": {},
   "outputs": [],
   "source": [
    "x=[]\n",
    "y =[]\n",
    "\n",
    "y1=[]\n",
    "\n",
    "for file in glob.glob(\"C:\\\\Users\\\\tmacovei001\\\\Desktop\\\\Speaker Recognition\\\\Datasets\\\\Ravdess\\\\All\\\\*\"):\n",
    "    basename=os.path.basename(file)\n",
    "    emotion=basename.split(\"-\")[2]\n",
    "    person=basename.split(\"-\")[6]\n",
    "    person=person.split(\".\")[0]\n",
    "    phrase=basename.split(\"-\")[4]\n",
    "    repetition=basename.split(\"-\")[5]\n",
    "    y1.append(int(person)-1)\n",
    "    file_temp,fs_temp=librosa.load(file, sr=fs)\n",
    "    #mfcc_features=librosa.feature.melspectrogram(file_temp,sr=fs,  n_mels=128, fmax=8000)\n",
    "    mfcc_features=librosa.feature.mfcc(file_temp,sr=fs, S=None, n_mfcc=20)\n",
    "    if (max_len > mfcc_features.shape[1]):\n",
    "        pad_width = max_len - mfcc_features.shape[1]\n",
    "        mfcc_features = np.pad(mfcc_features, pad_width=((0, 0), (0, pad_width)), mode='constant')\n",
    "    else:\n",
    "        mfcc_features = mfcc_features[:, :max_len]\n",
    "    x.append(mfcc_features)\n"
   ]
  },
  {
   "cell_type": "code",
   "execution_count": 40,
   "metadata": {},
   "outputs": [
    {
     "data": {
      "text/plain": [
       "(1435, 20, 300, 1)"
      ]
     },
     "execution_count": 40,
     "metadata": {},
     "output_type": "execute_result"
    }
   ],
   "source": [
    "x=np.array(x)\n",
    "y1=np.array(y1)\n",
    "x.shape"
   ]
  },
  {
   "cell_type": "code",
   "execution_count": 41,
   "metadata": {},
   "outputs": [],
   "source": [
    "#Note that mfcc operation returns (n_mfcc, time). \n",
    "#You have to do an axis permutation to get it to (time, n_mfcc) format. \n",
    "#So that the convolution happens on the time dimension."
   ]
  },
  {
   "cell_type": "code",
   "execution_count": 42,
   "metadata": {},
   "outputs": [],
   "source": [
    "##Normalize!!"
   ]
  },
  {
   "cell_type": "markdown",
   "metadata": {},
   "source": [
    "Model"
   ]
  },
  {
   "cell_type": "markdown",
   "metadata": {},
   "source": [
    "Model parameters"
   ]
  },
  {
   "cell_type": "code",
   "execution_count": 43,
   "metadata": {},
   "outputs": [],
   "source": [
    "no_classes=max(y1)+1\n",
    "no_channels=1\n",
    "\n",
    "x_reshape=(x.shape[0],20,x.shape[2],no_channels)\n",
    "input_shape=(20,x.shape[2],no_channels)"
   ]
  },
  {
   "cell_type": "markdown",
   "metadata": {},
   "source": [
    "Create model"
   ]
  },
  {
   "cell_type": "code",
   "execution_count": 44,
   "metadata": {},
   "outputs": [],
   "source": [
    "x = x.reshape(x_reshape)\n",
    "\n",
    "x_train, x_test, y1_train, y1_test = sk.train_test_split(x,y1,test_size=0.2)\n",
    "y1_train = tf.keras.utils.to_categorical(y1_train,num_classes=no_classes)\n",
    "y1_test = tf.keras.utils.to_categorical(y1_test,num_classes=no_classes)"
   ]
  },
  {
   "cell_type": "code",
   "execution_count": 45,
   "metadata": {},
   "outputs": [
    {
     "data": {
      "text/plain": [
       "(1148, 20, 300, 1)"
      ]
     },
     "execution_count": 45,
     "metadata": {},
     "output_type": "execute_result"
    }
   ],
   "source": [
    "x_train.shape"
   ]
  },
  {
   "cell_type": "code",
   "execution_count": 46,
   "metadata": {},
   "outputs": [],
   "source": [
    "model = models.Sequential()\n",
    "model.add(layers.Conv2D(32, kernel_size=(2, 2), kernel_regularizer=l2(0.001),bias_regularizer=l2(0.001),activation='relu', input_shape=input_shape))\n",
    "model.add(layers.MaxPooling2D(pool_size=(2, 2)))\n",
    "model.add(layers.Dropout(0.5))\n",
    "\n",
    "\n",
    "\n",
    "model.add(layers.Conv2D(48, kernel_size=(2, 2),kernel_regularizer=l2(0.001), bias_regularizer=l2(0.001), activation='relu'))\n",
    "model.add(layers.MaxPooling2D(pool_size=(2, 2)))\n",
    "model.add(layers.Dropout(0.5))\n",
    "\n",
    "\n",
    "\n",
    "\n",
    "model.add(layers.Flatten())\n",
    "\n",
    "model.add(layers.Dense(no_classes, activation='softmax'))\n"
   ]
  },
  {
   "cell_type": "code",
   "execution_count": 47,
   "metadata": {},
   "outputs": [
    {
     "name": "stdout",
     "output_type": "stream",
     "text": [
      "Model: \"sequential_4\"\n",
      "_________________________________________________________________\n",
      "Layer (type)                 Output Shape              Param #   \n",
      "=================================================================\n",
      "conv2d_6 (Conv2D)            (None, 19, 299, 8)        40        \n",
      "_________________________________________________________________\n",
      "max_pooling2d_6 (MaxPooling2 (None, 9, 149, 8)         0         \n",
      "_________________________________________________________________\n",
      "conv2d_7 (Conv2D)            (None, 8, 148, 16)        528       \n",
      "_________________________________________________________________\n",
      "max_pooling2d_7 (MaxPooling2 (None, 4, 74, 16)         0         \n",
      "_________________________________________________________________\n",
      "conv2d_8 (Conv2D)            (None, 3, 73, 32)         2080      \n",
      "_________________________________________________________________\n",
      "max_pooling2d_8 (MaxPooling2 (None, 1, 36, 32)         0         \n",
      "_________________________________________________________________\n",
      "flatten_2 (Flatten)          (None, 1152)              0         \n",
      "_________________________________________________________________\n",
      "dense_2 (Dense)              (None, 500)               576500    \n",
      "_________________________________________________________________\n",
      "dense_3 (Dense)              (None, 200)               100200    \n",
      "_________________________________________________________________\n",
      "dense_4 (Dense)              (None, 24)                4824      \n",
      "=================================================================\n",
      "Total params: 684,172\n",
      "Trainable params: 684,172\n",
      "Non-trainable params: 0\n",
      "_________________________________________________________________\n"
     ]
    }
   ],
   "source": [
    "model.summary()"
   ]
  },
  {
   "cell_type": "code",
   "execution_count": null,
   "metadata": {},
   "outputs": [],
   "source": []
  },
  {
   "cell_type": "code",
   "execution_count": null,
   "metadata": {},
   "outputs": [],
   "source": []
  },
  {
   "cell_type": "markdown",
   "metadata": {},
   "source": [
    "Compile model"
   ]
  },
  {
   "cell_type": "code",
   "execution_count": 48,
   "metadata": {},
   "outputs": [],
   "source": [
    "\n",
    "optimizer = tf.keras.optimizers.Adam(lr=0.001)\n",
    "model.compile(optimizer=optimizer,\n",
    "              loss=tf.keras.losses.categorical_crossentropy,\n",
    "              metrics=['accuracy'])\n"
   ]
  },
  {
   "cell_type": "markdown",
   "metadata": {},
   "source": [
    "Train model"
   ]
  },
  {
   "cell_type": "code",
   "execution_count": 49,
   "metadata": {},
   "outputs": [
    {
     "name": "stdout",
     "output_type": "stream",
     "text": [
      "Train on 1148 samples, validate on 287 samples\n",
      "Epoch 1/45\n",
      "1148/1148 [==============================] - 2s 2ms/sample - loss: 10.0219 - accuracy: 0.0566 - val_loss: 3.2145 - val_accuracy: 0.0801\n",
      "Epoch 2/45\n",
      "1148/1148 [==============================] - 1s 765us/sample - loss: 2.7460 - accuracy: 0.2073 - val_loss: 2.3897 - val_accuracy: 0.2857\n",
      "Epoch 3/45\n",
      "1148/1148 [==============================] - ETA: 0s - loss: 1.9209 - accuracy: 0.43 - 1s 822us/sample - loss: 1.9177 - accuracy: 0.4321 - val_loss: 1.8430 - val_accuracy: 0.4355\n",
      "Epoch 4/45\n",
      "1148/1148 [==============================] - 1s 816us/sample - loss: 1.2539 - accuracy: 0.6185 - val_loss: 1.3237 - val_accuracy: 0.6098\n",
      "Epoch 5/45\n",
      "1148/1148 [==============================] - 1s 787us/sample - loss: 0.7865 - accuracy: 0.7909 - val_loss: 1.1268 - val_accuracy: 0.6132\n",
      "Epoch 6/45\n",
      "1148/1148 [==============================] - 1s 808us/sample - loss: 0.4738 - accuracy: 0.8746 - val_loss: 0.9733 - val_accuracy: 0.7108\n",
      "Epoch 7/45\n",
      "1148/1148 [==============================] - 1s 800us/sample - loss: 0.3266 - accuracy: 0.9207 - val_loss: 1.1697 - val_accuracy: 0.6551\n",
      "Epoch 8/45\n",
      "1148/1148 [==============================] - 1s 833us/sample - loss: 0.2388 - accuracy: 0.9477 - val_loss: 0.8133 - val_accuracy: 0.7352\n",
      "Epoch 9/45\n",
      "1148/1148 [==============================] - 1s 817us/sample - loss: 0.1210 - accuracy: 0.9861 - val_loss: 0.8032 - val_accuracy: 0.7596\n",
      "Epoch 10/45\n",
      "1148/1148 [==============================] - 1s 957us/sample - loss: 0.0774 - accuracy: 0.9974 - val_loss: 0.6755 - val_accuracy: 0.7979\n",
      "Epoch 11/45\n",
      "1148/1148 [==============================] - 1s 1ms/sample - loss: 0.0575 - accuracy: 1.0000 - val_loss: 0.6951 - val_accuracy: 0.8014\n",
      "Epoch 12/45\n",
      "1148/1148 [==============================] - 1s 1ms/sample - loss: 0.0618 - accuracy: 0.9956 - val_loss: 1.2337 - val_accuracy: 0.7317\n",
      "Epoch 13/45\n",
      "1148/1148 [==============================] - 1s 1ms/sample - loss: 0.1260 - accuracy: 0.9730 - val_loss: 0.9211 - val_accuracy: 0.7422\n",
      "Epoch 14/45\n",
      "1148/1148 [==============================] - 1s 1ms/sample - loss: 0.0626 - accuracy: 0.9965 - val_loss: 0.8307 - val_accuracy: 0.7770\n",
      "Epoch 15/45\n",
      "1148/1148 [==============================] - 1s 1ms/sample - loss: 0.0426 - accuracy: 0.9991 - val_loss: 0.6842 - val_accuracy: 0.8188\n",
      "Epoch 16/45\n",
      "1148/1148 [==============================] - 1s 1ms/sample - loss: 0.0366 - accuracy: 1.0000 - val_loss: 0.6978 - val_accuracy: 0.7979\n",
      "Epoch 17/45\n",
      "1148/1148 [==============================] - 1s 1ms/sample - loss: 0.0353 - accuracy: 1.0000 - val_loss: 0.7044 - val_accuracy: 0.8153\n",
      "Epoch 18/45\n",
      "1148/1148 [==============================] - 1s 1ms/sample - loss: 0.0345 - accuracy: 1.0000 - val_loss: 0.6973 - val_accuracy: 0.8118\n",
      "Epoch 19/45\n",
      "1148/1148 [==============================] - 1s 1ms/sample - loss: 0.0339 - accuracy: 1.0000 - val_loss: 0.7080 - val_accuracy: 0.8118\n",
      "Epoch 20/45\n",
      "1148/1148 [==============================] - 1s 1ms/sample - loss: 0.0334 - accuracy: 1.0000 - val_loss: 0.7122 - val_accuracy: 0.8118\n",
      "Epoch 21/45\n",
      "1148/1148 [==============================] - 1s 997us/sample - loss: 0.0330 - accuracy: 1.0000 - val_loss: 0.7003 - val_accuracy: 0.8223\n",
      "Epoch 22/45\n",
      "1148/1148 [==============================] - 1s 999us/sample - loss: 0.0327 - accuracy: 1.0000 - val_loss: 0.7238 - val_accuracy: 0.8188\n",
      "Epoch 23/45\n",
      "1148/1148 [==============================] - 1s 1ms/sample - loss: 0.0324 - accuracy: 1.0000 - val_loss: 0.7117 - val_accuracy: 0.8188\n",
      "Epoch 24/45\n",
      "1148/1148 [==============================] - 1s 1ms/sample - loss: 0.0320 - accuracy: 1.0000 - val_loss: 0.7085 - val_accuracy: 0.8188\n",
      "Epoch 25/45\n",
      "1148/1148 [==============================] - 1s 1ms/sample - loss: 0.0318 - accuracy: 1.0000 - val_loss: 0.7289 - val_accuracy: 0.8153\n",
      "Epoch 26/45\n",
      "1148/1148 [==============================] - 1s 1ms/sample - loss: 0.0315 - accuracy: 1.0000 - val_loss: 0.7338 - val_accuracy: 0.8223\n",
      "Epoch 27/45\n",
      "1148/1148 [==============================] - 1s 1ms/sample - loss: 0.0312 - accuracy: 1.0000 - val_loss: 0.7439 - val_accuracy: 0.8223\n",
      "Epoch 28/45\n",
      "1148/1148 [==============================] - 1s 1ms/sample - loss: 0.0310 - accuracy: 1.0000 - val_loss: 0.7448 - val_accuracy: 0.8223\n",
      "Epoch 29/45\n",
      "1148/1148 [==============================] - 1s 1ms/sample - loss: 0.0308 - accuracy: 1.0000 - val_loss: 0.7398 - val_accuracy: 0.8188\n",
      "Epoch 30/45\n",
      "1148/1148 [==============================] - 1s 1ms/sample - loss: 0.0305 - accuracy: 1.0000 - val_loss: 0.7342 - val_accuracy: 0.8223\n",
      "Epoch 31/45\n",
      "1148/1148 [==============================] - 1s 1ms/sample - loss: 0.0303 - accuracy: 1.0000 - val_loss: 0.7512 - val_accuracy: 0.8223\n",
      "Epoch 32/45\n",
      "1148/1148 [==============================] - 1s 1ms/sample - loss: 0.0301 - accuracy: 1.0000 - val_loss: 0.7635 - val_accuracy: 0.8223\n",
      "Epoch 33/45\n",
      "1148/1148 [==============================] - 1s 1ms/sample - loss: 0.0299 - accuracy: 1.0000 - val_loss: 0.7772 - val_accuracy: 0.8223\n",
      "Epoch 34/45\n",
      "1148/1148 [==============================] - 1s 1ms/sample - loss: 0.0297 - accuracy: 1.0000 - val_loss: 0.7705 - val_accuracy: 0.8258\n",
      "Epoch 35/45\n",
      "1148/1148 [==============================] - 1s 1ms/sample - loss: 0.0295 - accuracy: 1.0000 - val_loss: 0.7815 - val_accuracy: 0.8188\n",
      "Epoch 36/45\n",
      "1148/1148 [==============================] - 1s 1ms/sample - loss: 0.0293 - accuracy: 1.0000 - val_loss: 0.7754 - val_accuracy: 0.8223\n",
      "Epoch 37/45\n",
      "1148/1148 [==============================] - 1s 1ms/sample - loss: 0.0291 - accuracy: 1.0000 - val_loss: 0.7841 - val_accuracy: 0.8118\n",
      "Epoch 38/45\n",
      "1148/1148 [==============================] - 1s 1ms/sample - loss: 0.0289 - accuracy: 1.0000 - val_loss: 0.7795 - val_accuracy: 0.8188\n",
      "Epoch 39/45\n",
      "1148/1148 [==============================] - 1s 1ms/sample - loss: 0.0286 - accuracy: 1.0000 - val_loss: 0.7789 - val_accuracy: 0.8223\n",
      "Epoch 40/45\n",
      "1148/1148 [==============================] - 1s 1ms/sample - loss: 0.0285 - accuracy: 1.0000 - val_loss: 0.7842 - val_accuracy: 0.8188\n",
      "Epoch 41/45\n",
      "1148/1148 [==============================] - 1s 1ms/sample - loss: 0.0283 - accuracy: 1.0000 - val_loss: 0.7703 - val_accuracy: 0.8258\n",
      "Epoch 42/45\n",
      "1148/1148 [==============================] - 1s 1ms/sample - loss: 0.0281 - accuracy: 1.0000 - val_loss: 0.8109 - val_accuracy: 0.8153\n",
      "Epoch 43/45\n",
      "1148/1148 [==============================] - 1s 1ms/sample - loss: 0.0279 - accuracy: 1.0000 - val_loss: 0.7999 - val_accuracy: 0.8258\n",
      "Epoch 44/45\n",
      "1148/1148 [==============================] - 1s 1ms/sample - loss: 0.0277 - accuracy: 1.0000 - val_loss: 0.7976 - val_accuracy: 0.8188\n",
      "Epoch 45/45\n",
      "1148/1148 [==============================] - 1s 1ms/sample - loss: 0.0275 - accuracy: 1.0000 - val_loss: 0.7925 - val_accuracy: 0.8328\n"
     ]
    }
   ],
   "source": [
    "history = model.fit(x_train, y1_train, epochs=45,verbose=1, validation_data=(x_test,y1_test))"
   ]
  },
  {
   "cell_type": "markdown",
   "metadata": {},
   "source": [
    "## Evaluate model"
   ]
  },
  {
   "cell_type": "code",
   "execution_count": 53,
   "metadata": {},
   "outputs": [
    {
     "name": "stdout",
     "output_type": "stream",
     "text": [
      "287/287 - 0s - loss: 0.7925 - accuracy: 0.8328\n",
      "\n",
      "Test accuracy: 0.8327526\n"
     ]
    }
   ],
   "source": [
    "test_loss, test_acc = model.evaluate(x_test,  y1_test, verbose=2)\n",
    "\n",
    "print('\\nTest accuracy:', test_acc)"
   ]
  },
  {
   "cell_type": "code",
   "execution_count": 54,
   "metadata": {},
   "outputs": [
    {
     "data": {
      "text/plain": [
       "[<matplotlib.lines.Line2D at 0x23fc6eab080>]"
      ]
     },
     "execution_count": 54,
     "metadata": {},
     "output_type": "execute_result"
    },
    {
     "data": {
      "image/png": "[encoded data removed]",
      "text/plain": [
       "<Figure size 432x288 with 1 Axes>"
      ]
     },
     "metadata": {},
     "output_type": "display_data"
    }
   ],
   "source": [
    "plt.plot(history.history['accuracy'])\n",
    "plt.plot(history.history['val_accuracy'])"
   ]
  },
  {
   "cell_type": "code",
   "execution_count": 55,
   "metadata": {},
   "outputs": [
    {
     "data": {
      "text/plain": [
       "[<matplotlib.lines.Line2D at 0x23fc6f3f780>]"
      ]
     },
     "execution_count": 55,
     "metadata": {},
     "output_type": "execute_result"
    },
    {
     "data": {
      "image/png": "[encoded data removed]",
      "text/plain": [
       "<Figure size 432x288 with 1 Axes>"
      ]
     },
     "metadata": {},
     "output_type": "display_data"
    }
   ],
   "source": [
    "plt.plot(history.history['loss'])\n",
    "plt.plot(history.history['val_loss'])\n"
   ]
  },
  {
   "cell_type": "code",
   "execution_count": 56,
   "metadata": {},
   "outputs": [],
   "source": [
    "file=\"C:\\\\Users\\\\tmacovei001\\\\Desktop\\\\Speaker Recognition\\\\Code\\\\voice_01_1_neutral.wav\""
   ]
  },
  {
   "cell_type": "code",
   "execution_count": 57,
   "metadata": {},
   "outputs": [],
   "source": [
    "file_temp,fs_temp=librosa.load(file, sr=fs)\n",
    "mfcc_test=librosa.feature.mfcc(file_temp,sr=fs, S=None, n_mfcc=no_mfcc)\n",
    "if (max_len > mfcc_test.shape[1]):\n",
    "    pad_width = max_len - mfcc_test.shape[1]\n",
    "    mfcc_test = np.pad(mfcc_test, pad_width=((0, 0), (0, pad_width)), mode='constant')\n",
    "else:\n",
    "    mfcc_test = mfcc_test[:, :max_len]\n",
    "\n",
    "mfcc_test=mfcc_test.reshape((1,20,x.shape[2],no_channels))"
   ]
  },
  {
   "cell_type": "code",
   "execution_count": 58,
   "metadata": {},
   "outputs": [
    {
     "data": {
      "text/plain": [
       "array([0.0392428 , 0.03924167, 0.03927461, 0.03924167, 0.03926451,\n",
       "       0.03924167, 0.03924168, 0.03924168, 0.04004551, 0.03927935,\n",
       "       0.03924167, 0.03924167, 0.03924173, 0.03924167, 0.03927412,\n",
       "       0.03924167, 0.09064803, 0.03924167, 0.03924169, 0.03924167,\n",
       "       0.04510429, 0.03924167, 0.03924172, 0.03924167], dtype=float32)"
      ]
     },
     "execution_count": 58,
     "metadata": {},
     "output_type": "execute_result"
    }
   ],
   "source": [
    "probability_model = tf.keras.Sequential([model, \n",
    "                                         tf.keras.layers.Softmax()])\n",
    "predictions = probability_model.predict(mfcc_test)\n",
    "predictions[0]"
   ]
  },
  {
   "cell_type": "code",
   "execution_count": 59,
   "metadata": {},
   "outputs": [
    {
     "data": {
      "image/png": "[encoded data removed]",
      "text/plain": [
       "<Figure size 432x288 with 1 Axes>"
      ]
     },
     "metadata": {},
     "output_type": "display_data"
    }
   ],
   "source": [
    "i = 0\n",
    "thisplot = plt.bar(range(24), 100*predictions[0])\n",
    "\n",
    "\n",
    "plt.show()"
   ]
  },
  {
   "cell_type": "code",
   "execution_count": null,
   "metadata": {},
   "outputs": [],
   "source": []
  },
  {
   "cell_type": "code",
   "execution_count": 46,
   "metadata": {},
   "outputs": [
    {
     "name": "stdout",
     "output_type": "stream",
     "text": [
      "INFO:tensorflow:Assets written to: person_model\\assets\n"
     ]
    }
   ],
   "source": [
    "model.save('person_model')"
   ]
  },
  {
   "cell_type": "code",
   "execution_count": 47,
   "metadata": {},
   "outputs": [],
   "source": [
    "model2 = tf.keras.models.load_model('person_model')"
   ]
  },
  {
   "cell_type": "code",
   "execution_count": null,
   "metadata": {},
   "outputs": [],
   "source": []
  },
  {
   "cell_type": "code",
   "execution_count": 16,
   "metadata": {},
   "outputs": [
    {
     "ename": "NameError",
     "evalue": "name 'predictions' is not defined",
     "output_type": "error",
     "traceback": [
      "\u001b[1;31m---------------------------------------------------------------------------\u001b[0m",
      "\u001b[1;31mNameError\u001b[0m                                 Traceback (most recent call last)",
      "\u001b[1;32m<ipython-input-16-4ba503436d12>\u001b[0m in \u001b[0;36m<module>\u001b[1;34m\u001b[0m\n\u001b[1;32m----> 1\u001b[1;33m \u001b[0mpredictions\u001b[0m\u001b[1;33m[\u001b[0m\u001b[1;36m0\u001b[0m\u001b[1;33m]\u001b[0m\u001b[1;33m\u001b[0m\u001b[1;33m\u001b[0m\u001b[0m\n\u001b[0m",
      "\u001b[1;31mNameError\u001b[0m: name 'predictions' is not defined"
     ]
    }
   ],
   "source": [
    "predictions[0]"
   ]
  },
  {
   "cell_type": "code",
   "execution_count": 30,
   "metadata": {},
   "outputs": [],
   "source": [
    "from sklearn.metrics import confusion_matrix"
   ]
  },
  {
   "cell_type": "code",
   "execution_count": 60,
   "metadata": {},
   "outputs": [],
   "source": [
    "probability_model = tf.keras.Sequential([model, \n",
    "                                         tf.keras.layers.Softmax()])\n",
    "predictions = probability_model.predict(x_test)"
   ]
  },
  {
   "cell_type": "code",
   "execution_count": 61,
   "metadata": {},
   "outputs": [
    {
     "data": {
      "text/plain": [
       "array([[ 9,  0,  1,  0,  0,  0,  0,  0,  0,  0,  0,  0,  0,  0,  0,  0,\n",
       "         0,  0,  0,  0,  0,  0,  0,  0],\n",
       "       [ 0,  8,  0,  0,  0,  0,  0,  0,  0,  0,  0,  0,  0,  0,  0,  1,\n",
       "         0,  0,  0,  2,  0,  0,  0,  1],\n",
       "       [ 0,  0, 11,  0,  0,  0,  0,  0,  0,  0,  0,  0,  0,  0,  0,  0,\n",
       "         0,  0,  0,  0,  0,  0,  0,  0],\n",
       "       [ 0,  1,  0, 14,  0,  0,  0,  0,  0,  0,  0,  0,  0,  0,  0,  0,\n",
       "         0,  0,  0,  0,  0,  0,  0,  0],\n",
       "       [ 0,  0,  0,  0, 14,  0,  0,  0,  0,  0,  0,  0,  1,  0,  0,  0,\n",
       "         0,  0,  0,  0,  0,  0,  0,  0],\n",
       "       [ 0,  0,  0,  0,  0, 14,  0,  0,  0,  0,  0,  0,  0,  1,  0,  0,\n",
       "         0,  1,  0,  1,  0,  0,  0,  0],\n",
       "       [ 0,  0,  0,  0,  1,  0, 11,  0,  0,  1,  0,  0,  0,  0,  0,  0,\n",
       "         0,  0,  0,  0,  0,  0,  0,  0],\n",
       "       [ 0,  0,  0,  0,  1,  0,  0,  9,  0,  0,  0,  0,  0,  0,  1,  0,\n",
       "         0,  0,  1,  0,  0,  0,  0,  0],\n",
       "       [ 0,  0,  0,  0,  0,  0,  0,  0,  8,  0,  0,  0,  0,  0,  0,  0,\n",
       "         0,  0,  0,  0,  0,  0,  0,  0],\n",
       "       [ 0,  0,  0,  0,  1,  0,  0,  0,  0, 15,  0,  0,  0,  0,  0,  0,\n",
       "         0,  0,  0,  0,  0,  0,  0,  0],\n",
       "       [ 0,  0,  1,  0,  0,  0,  0,  0,  0,  0,  7,  0,  1,  0,  0,  0,\n",
       "         0,  0,  0,  0,  0,  0,  0,  0],\n",
       "       [ 0,  1,  1,  0,  0,  0,  0,  0,  0,  0,  0,  9,  0,  0,  0,  0,\n",
       "         0,  0,  0,  0,  0,  0,  0,  0],\n",
       "       [ 0,  0,  0,  0,  0,  0,  0,  0,  0,  0,  0,  0,  7,  0,  0,  0,\n",
       "         0,  1,  2,  0,  0,  0,  0,  0],\n",
       "       [ 0,  0,  0,  0,  0,  0,  0,  0,  0,  0,  0,  0,  0,  8,  0,  0,\n",
       "         0,  1,  0,  1,  0,  0,  0,  1],\n",
       "       [ 0,  0,  0,  0,  0,  0,  0,  1,  0,  0,  0,  0,  0,  0, 13,  0,\n",
       "         0,  0,  0,  0,  0,  0,  0,  0],\n",
       "       [ 0,  0,  0,  0,  0,  0,  0,  0,  0,  0,  0,  1,  0,  0,  0,  6,\n",
       "         0,  0,  0,  0,  0,  0,  0,  0],\n",
       "       [ 0,  0,  0,  0,  0,  0,  0,  0,  0,  0,  0,  0,  0,  0,  1,  0,\n",
       "         8,  0,  2,  0,  0,  0,  0,  0],\n",
       "       [ 0,  0,  0,  2,  0,  0,  0,  0,  0,  0,  0,  0,  0,  0,  0,  1,\n",
       "         0,  7,  0,  1,  0,  1,  0,  0],\n",
       "       [ 0,  0,  1,  1,  0,  0,  0,  0,  0,  0,  0,  0,  1,  0,  0,  0,\n",
       "         0,  0, 10,  0,  0,  0,  0,  0],\n",
       "       [ 0,  0,  0,  2,  0,  0,  0,  0,  0,  0,  0,  0,  0,  0,  0,  0,\n",
       "         0,  0,  0,  6,  0,  0,  0,  1],\n",
       "       [ 0,  0,  0,  0,  0,  0,  0,  0,  0,  0,  0,  0,  0,  0,  0,  0,\n",
       "         0,  0,  0,  0, 12,  0,  0,  0],\n",
       "       [ 0,  0,  0,  1,  0,  0,  0,  0,  0,  1,  0,  0,  0,  0,  0,  0,\n",
       "         0,  0,  0,  0,  0, 11,  0,  0],\n",
       "       [ 0,  0,  0,  0,  0,  0,  0,  0,  0,  0,  0,  0,  0,  0,  0,  0,\n",
       "         0,  1,  0,  0,  0,  0, 10,  0],\n",
       "       [ 0,  1,  0,  0,  0,  0,  0,  0,  0,  0,  0,  0,  0,  0,  0,  0,\n",
       "         0,  0,  0,  2,  0,  0,  0, 12]], dtype=int64)"
      ]
     },
     "execution_count": 61,
     "metadata": {},
     "output_type": "execute_result"
    }
   ],
   "source": [
    "y_pred = np.argmax(predictions, axis=1)\n",
    "rounded_labels=np.argmax(y1_test, axis=1)\n",
    "rounded_labels[1]\n",
    "\n",
    "cnf_matrix = confusion_matrix(rounded_labels, y_pred)\n",
    "cnf_matrix"
   ]
  },
  {
   "cell_type": "code",
   "execution_count": null,
   "metadata": {},
   "outputs": [],
   "source": []
  },
  {
   "cell_type": "code",
   "execution_count": 62,
   "metadata": {},
   "outputs": [
    {
     "data": {
      "text/plain": [
       "<matplotlib.axes._subplots.AxesSubplot at 0x23fd4367d30>"
      ]
     },
     "execution_count": 62,
     "metadata": {},
     "output_type": "execute_result"
    },
    {
     "data": {
      "image/png": "[encoded data removed]",
      "text/plain": [
       "<Figure size 432x288 with 2 Axes>"
      ]
     },
     "metadata": {},
     "output_type": "display_data"
    }
   ],
   "source": [
    "sns.heatmap(cnf_matrix,annot=True)"
   ]
  },
  {
   "cell_type": "code",
   "execution_count": null,
   "metadata": {},
   "outputs": [],
   "source": []
  }
 ],
 "metadata": {
  "kernelspec": {
   "display_name": "Python 3",
   "language": "python",
   "name": "python3"
  },
  "language_info": {
   "codemirror_mode": {
    "name": "ipython",
    "version": 3
   },
   "file_extension": ".py",
   "mimetype": "text/x-python",
   "name": "python",
   "nbconvert_exporter": "python",
   "pygments_lexer": "ipython3",
   "version": "3.6.10"
  }
 },
 "nbformat": 4,
 "nbformat_minor": 2
}
