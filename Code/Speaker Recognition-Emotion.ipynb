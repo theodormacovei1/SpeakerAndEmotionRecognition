{
 "cells": [
  {
   "cell_type": "markdown",
   "metadata": {},
   "source": [
    "# Speaker recognition "
   ]
  },
  {
   "cell_type": "markdown",
   "metadata": {},
   "source": [
    "Import Libraries"
   ]
  },
  {
   "cell_type": "code",
   "execution_count": 834,
   "metadata": {},
   "outputs": [],
   "source": [
    "import numpy as np\n",
    "import tensorflow as tf\n",
    "from tensorflow.keras import datasets, layers, models\n",
    "import sklearn.model_selection as sk\n",
    "import glob\n",
    "import os\n",
    "import sounddevice as sd\n",
    "import librosa\n",
    "import librosa.display\n",
    "from scipy.io.wavfile import write\n",
    "from scipy.io.wavfile import read\n",
    "import matplotlib.pyplot as plt\n",
    "\n",
    "from keras.regularizers import l2"
   ]
  },
  {
   "cell_type": "markdown",
   "metadata": {},
   "source": [
    "Parameters"
   ]
  },
  {
   "cell_type": "code",
   "execution_count": 835,
   "metadata": {},
   "outputs": [],
   "source": [
    "fs = 44100\n",
    "no_mfcc=40\n",
    "max_len=400"
   ]
  },
  {
   "cell_type": "markdown",
   "metadata": {},
   "source": [
    "Custom dataset\n",
    "\n",
    "Load files. Extract features"
   ]
  },
  {
   "cell_type": "code",
   "execution_count": 863,
   "metadata": {},
   "outputs": [],
   "source": [
    "x=[]\n",
    "y =[]\n",
    "\n",
    "y1=[]\n",
    "\n"
   ]
  },
  {
   "cell_type": "code",
   "execution_count": 864,
   "metadata": {},
   "outputs": [],
   "source": [
    "\n",
    "for file in glob.glob(\"C:\\\\Users\\\\tmacovei001\\\\Desktop\\\\Speaker Recognition\\\\Datasets\\\\Custom\\\\All\\\\*\"):\n",
    "    basename=os.path.basename(file)\n",
    "    \n",
    "    person=basename.split(\"_\")[1]   \n",
    "    emotion=basename.split(\"_\")[3]\n",
    "    emotion=emotion.split(\".\")[0]\n",
    "    \n",
    "\n",
    "    if(emotion==\"neutral\" and int(person)!=3):\n",
    "        y1.append(0)\n",
    "        file_temp,fs_temp=librosa.load(file, sr=fs)\n",
    "        #mfcc_features=librosa.feature.melspectrogram(file_temp,sr=fs,  n_mels=128, fmax=8000)\n",
    "        mfcc_features=librosa.feature.mfcc(file_temp,sr=fs, S=None, n_mfcc=no_mfcc)\n",
    "        #mfcc_features=librosa.feature.chroma_stft(y=file_temp, sr=fs)\n",
    "        if (max_len > mfcc_features.shape[1]):\n",
    "            pad_width = max_len - mfcc_features.shape[1]\n",
    "            mfcc_features = np.pad(mfcc_features, pad_width=((0, 0), (0, pad_width)), mode='constant')\n",
    "        else:\n",
    "            mfcc_features = mfcc_features[:, :max_len]\n",
    "        x.append(mfcc_features)\n",
    "\n",
    "    if(emotion==\"happy\" and int(person)!=3):\n",
    "        y1.append(1)\n",
    "        file_temp,fs_temp=librosa.load(file, sr=fs)\n",
    "        #mfcc_features=librosa.feature.melspectrogram(file_temp,sr=fs,  n_mels=128, fmax=8000)\n",
    "        mfcc_features=librosa.feature.mfcc(file_temp,sr=fs, S=None, n_mfcc=no_mfcc)\n",
    "        #mfcc_features=librosa.feature.chroma_stft(y=file_temp, sr=fs)\n",
    "        if (max_len > mfcc_features.shape[1]):\n",
    "            pad_width = max_len - mfcc_features.shape[1]\n",
    "            mfcc_features = np.pad(mfcc_features, pad_width=((0, 0), (0, pad_width)), mode='constant')\n",
    "        else:\n",
    "            mfcc_features = mfcc_features[:, :max_len]\n",
    "        x.append(mfcc_features)\n",
    "  \n",
    "    if(emotion==\"angry\" and int(person)!=3):\n",
    "        y1.append(2)\n",
    "        file_temp,fs_temp=librosa.load(file, sr=fs)\n",
    "        #mfcc_features=librosa.feature.melspectrogram(file_temp,sr=fs,  n_mels=128, fmax=8000)\n",
    "        mfcc_features=librosa.feature.mfcc(file_temp,sr=fs, S=None, n_mfcc=no_mfcc)\n",
    "        #mfcc_features=librosa.feature.chroma_stft(y=file_temp, sr=fs)\n",
    "        if (max_len > mfcc_features.shape[1]):\n",
    "            pad_width = max_len - mfcc_features.shape[1]\n",
    "            mfcc_features = np.pad(mfcc_features, pad_width=((0, 0), (0, pad_width)), mode='constant')\n",
    "        else:\n",
    "            mfcc_features = mfcc_features[:, :max_len]\n",
    "        x.append(mfcc_features)\n",
    "           "
   ]
  },
  {
   "cell_type": "markdown",
   "metadata": {},
   "source": [
    "RAVDESS Dataset\n",
    "\n",
    "Load files. Extract features"
   ]
  },
  {
   "cell_type": "code",
   "execution_count": 837,
   "metadata": {},
   "outputs": [],
   "source": [
    "\n",
    "for file in glob.glob(\"C:\\\\Users\\\\tmacovei001\\\\Desktop\\\\Speaker Recognition\\\\Datasets\\\\Ravdess\\\\All\\\\*\"):\n",
    "    basename=os.path.basename(file)\n",
    "    \n",
    "    statement=basename.split(\"-\")[4]\n",
    "    \n",
    "    emotion=basename.split(\"-\")[2]\n",
    "    person=basename.split(\"-\")[6]\n",
    "    person=person.split(\".\")[0]\n",
    "    \n",
    "    if(int(emotion)==1):\n",
    "        y1.append(0)\n",
    "        file_temp,fs_temp=librosa.load(file, sr=fs)\n",
    "        #mfcc_features=librosa.feature.melspectrogram(file_temp,sr=fs,  n_mels=128, fmax=8000)\n",
    "        mfcc_features=librosa.feature.mfcc(file_temp,sr=fs, S=None, n_mfcc=no_mfcc)\n",
    "        #mfcc_features=librosa.feature.chroma_stft(y=file_temp, sr=fs)\n",
    "        if (max_len > mfcc_features.shape[1]):\n",
    "            pad_width = max_len - mfcc_features.shape[1]\n",
    "            mfcc_features = np.pad(mfcc_features, pad_width=((0, 0), (0, pad_width)), mode='constant')\n",
    "        else:\n",
    "            mfcc_features = mfcc_features[:, :max_len]\n",
    "        x.append(mfcc_features)\n",
    "\n",
    "    elif(int(emotion)==3):\n",
    "        y1.append(1)\n",
    "        file_temp,fs_temp=librosa.load(file, sr=fs)\n",
    "        #mfcc_features=librosa.feature.melspectrogram(file_temp,sr=fs,  n_mels=128, fmax=8000)\n",
    "        mfcc_features=librosa.feature.mfcc(file_temp,sr=fs, S=None, n_mfcc=no_mfcc)\n",
    "        #mfcc_features=librosa.feature.chroma_stft(y=file_temp, sr=fs)\n",
    "        if (max_len > mfcc_features.shape[1]):\n",
    "            pad_width = max_len - mfcc_features.shape[1]\n",
    "            mfcc_features = np.pad(mfcc_features, pad_width=((0, 0), (0, pad_width)), mode='constant')\n",
    "        else:\n",
    "            mfcc_features = mfcc_features[:, :max_len]\n",
    "        x.append(mfcc_features)\n",
    "\n",
    "    elif(int(emotion)==5):\n",
    "        y1.append(2)\n",
    "        file_temp,fs_temp=librosa.load(file, sr=fs)\n",
    "        #mfcc_features=librosa.feature.melspectrogram(file_temp,sr=fs,  n_mels=128, fmax=8000)\n",
    "        mfcc_features=librosa.feature.mfcc(file_temp,sr=fs, S=None, n_mfcc=no_mfcc)\n",
    "        #mfcc_features=librosa.feature.chroma_stft(y=file_temp, sr=fs)\n",
    "        if (max_len > mfcc_features.shape[1]):\n",
    "            pad_width = max_len - mfcc_features.shape[1]\n",
    "            mfcc_features = np.pad(mfcc_features, pad_width=((0, 0), (0, pad_width)), mode='constant')\n",
    "        else:\n",
    "            mfcc_features = mfcc_features[:, :max_len]\n",
    "        x.append(mfcc_features)\n",
    "\n",
    "            "
   ]
  },
  {
   "cell_type": "code",
   "execution_count": 865,
   "metadata": {},
   "outputs": [
    {
     "data": {
      "text/plain": [
       "(195, 40, 400)"
      ]
     },
     "execution_count": 865,
     "metadata": {},
     "output_type": "execute_result"
    }
   ],
   "source": [
    "x=np.array(x)\n",
    "#y1=np.array(y1)A\n",
    "y1=np.array(y1)\n",
    "x.shape\n"
   ]
  },
  {
   "cell_type": "code",
   "execution_count": 839,
   "metadata": {},
   "outputs": [],
   "source": [
    "#Note that mfcc operation returns (n_mfcc, time). \n",
    "#You have to do an axis permutation to get it to (time, n_mfcc) format. \n",
    "#So that the convolution happens on the time dimension."
   ]
  },
  {
   "cell_type": "code",
   "execution_count": 840,
   "metadata": {},
   "outputs": [],
   "source": [
    "##Normalize!!"
   ]
  },
  {
   "cell_type": "code",
   "execution_count": 841,
   "metadata": {},
   "outputs": [
    {
     "data": {
      "text/plain": [
       "(12, 440)"
      ]
     },
     "execution_count": 841,
     "metadata": {},
     "output_type": "execute_result"
    }
   ],
   "source": [
    "chroma=librosa.feature.chroma_stft(y=file_temp, sr=fs)\n",
    "chroma.shape"
   ]
  },
  {
   "cell_type": "markdown",
   "metadata": {},
   "source": [
    "Model"
   ]
  },
  {
   "cell_type": "markdown",
   "metadata": {},
   "source": [
    "Model parameters"
   ]
  },
  {
   "cell_type": "code",
   "execution_count": 866,
   "metadata": {},
   "outputs": [],
   "source": [
    "no_classes=max(y1)+1\n",
    "nb_filter1=16\n",
    "nb_filter2=8\n",
    "nb_filter3=4\n",
    "no_channels=1\n",
    "filter_length=3\n",
    "filter_length2=2\n",
    "length=39\n",
    "x_reshape=(x.shape[0],40,x.shape[2],no_channels)\n",
    "input_shape=(40,x.shape[2],no_channels)\n"
   ]
  },
  {
   "cell_type": "markdown",
   "metadata": {},
   "source": [
    "Create model"
   ]
  },
  {
   "cell_type": "code",
   "execution_count": 867,
   "metadata": {},
   "outputs": [],
   "source": [
    "x = x.reshape(x_reshape)\n",
    "\n",
    "x_train, x_test, y1_train, y1_test = sk.train_test_split(x,y1,test_size=0.2)\n",
    "y1_train = tf.keras.utils.to_categorical(y1_train,num_classes=no_classes)\n",
    "y1_test = tf.keras.utils.to_categorical(y1_test,num_classes=no_classes)"
   ]
  },
  {
   "cell_type": "code",
   "execution_count": 868,
   "metadata": {},
   "outputs": [
    {
     "data": {
      "text/plain": [
       "(156, 40, 400, 1)"
      ]
     },
     "execution_count": 868,
     "metadata": {},
     "output_type": "execute_result"
    }
   ],
   "source": [
    "x_train.shape"
   ]
  },
  {
   "cell_type": "markdown",
   "metadata": {},
   "source": [
    "model = models.Sequential()\n",
    "model.add(layers.Conv2D(32, kernel_size=(2, 2), kernel_regularizer=l2(0.001),bias_regularizer=l2(0.001),activation='relu', input_shape=input_shape))\n",
    "model.add(layers.MaxPooling2D(pool_size=(2, 2)))\n",
    "model.add(layers.Dropout(0.5))\n",
    "\n",
    "\n",
    "\n",
    "model.add(layers.Conv2D(48, kernel_size=(2, 2),kernel_regularizer=l2(0.001), bias_regularizer=l2(0.001), activation='relu'))\n",
    "model.add(layers.MaxPooling2D(pool_size=(2, 2)))\n",
    "model.add(layers.Dropout(0.5))\n",
    "\n",
    "\n",
    "\n",
    "\n",
    "model.add(layers.Flatten())\n",
    "\n",
    "model.add(layers.Dense(no_classes, activation='softmax'))\n"
   ]
  },
  {
   "cell_type": "code",
   "execution_count": 845,
   "metadata": {},
   "outputs": [],
   "source": [
    "model = models.Sequential()\n",
    "model.add(layers.Conv2D(32, kernel_size=(2, 2), kernel_regularizer=l2(0.001),bias_regularizer=l2(0.001),activation='relu', input_shape=input_shape))\n",
    "model.add(layers.MaxPooling2D(pool_size=(2, 2)))\n",
    "model.add(layers.Dropout(0.5))\n",
    "\n",
    "\n",
    "\n",
    "model.add(layers.Conv2D(48, kernel_size=(2, 2),kernel_regularizer=l2(0.001), bias_regularizer=l2(0.001), activation='relu'))\n",
    "model.add(layers.MaxPooling2D(pool_size=(2, 2)))\n",
    "model.add(layers.Dropout(0.5))\n",
    "\n",
    "\n",
    "\n",
    "\n",
    "model.add(layers.Flatten())\n",
    "#model.add(layers.Dense(400, activation='relu'))\n",
    "#model.add(layers.Dense(200, activation='relu'))\n",
    "model.add(layers.Dense(no_classes, activation='softmax'))"
   ]
  },
  {
   "cell_type": "code",
   "execution_count": 846,
   "metadata": {},
   "outputs": [
    {
     "name": "stdout",
     "output_type": "stream",
     "text": [
      "Model: \"sequential_87\"\n",
      "_________________________________________________________________\n",
      "Layer (type)                 Output Shape              Param #   \n",
      "=================================================================\n",
      "conv2d_54 (Conv2D)           (None, 39, 399, 32)       160       \n",
      "_________________________________________________________________\n",
      "max_pooling2d_54 (MaxPooling (None, 19, 199, 32)       0         \n",
      "_________________________________________________________________\n",
      "dropout_54 (Dropout)         (None, 19, 199, 32)       0         \n",
      "_________________________________________________________________\n",
      "conv2d_55 (Conv2D)           (None, 18, 198, 48)       6192      \n",
      "_________________________________________________________________\n",
      "max_pooling2d_55 (MaxPooling (None, 9, 99, 48)         0         \n",
      "_________________________________________________________________\n",
      "dropout_55 (Dropout)         (None, 9, 99, 48)         0         \n",
      "_________________________________________________________________\n",
      "flatten_27 (Flatten)         (None, 42768)             0         \n",
      "_________________________________________________________________\n",
      "dense_51 (Dense)             (None, 3)                 128307    \n",
      "=================================================================\n",
      "Total params: 134,659\n",
      "Trainable params: 134,659\n",
      "Non-trainable params: 0\n",
      "_________________________________________________________________\n"
     ]
    }
   ],
   "source": [
    "model.summary()"
   ]
  },
  {
   "cell_type": "code",
   "execution_count": null,
   "metadata": {},
   "outputs": [],
   "source": []
  },
  {
   "cell_type": "code",
   "execution_count": null,
   "metadata": {},
   "outputs": [],
   "source": []
  },
  {
   "cell_type": "markdown",
   "metadata": {},
   "source": [
    "Compile model"
   ]
  },
  {
   "cell_type": "code",
   "execution_count": 847,
   "metadata": {},
   "outputs": [],
   "source": [
    "\n",
    "optimizer = tf.keras.optimizers.Adam(lr=0.0001)\n",
    "model.compile(optimizer=optimizer,\n",
    "              loss=tf.keras.losses.categorical_crossentropy,\n",
    "              metrics=['accuracy'])\n"
   ]
  },
  {
   "cell_type": "markdown",
   "metadata": {},
   "source": [
    "Train model"
   ]
  },
  {
   "cell_type": "code",
   "execution_count": 869,
   "metadata": {
    "scrolled": true
   },
   "outputs": [
    {
     "name": "stdout",
     "output_type": "stream",
     "text": [
      "Epoch 1/25\n",
      "5/5 [==============================] - 1s 269ms/step - loss: 15.8764 - accuracy: 0.3654 - val_loss: 5.6514 - val_accuracy: 0.3077\n",
      "Epoch 2/25\n",
      "5/5 [==============================] - 1s 202ms/step - loss: 13.5912 - accuracy: 0.3654 - val_loss: 4.3132 - val_accuracy: 0.3846\n",
      "Epoch 3/25\n",
      "5/5 [==============================] - 1s 203ms/step - loss: 9.4867 - accuracy: 0.3974 - val_loss: 3.0022 - val_accuracy: 0.2308\n",
      "Epoch 4/25\n",
      "5/5 [==============================] - 1s 228ms/step - loss: 6.2878 - accuracy: 0.5064 - val_loss: 1.6877 - val_accuracy: 0.5128\n",
      "Epoch 5/25\n",
      "5/5 [==============================] - 1s 224ms/step - loss: 5.2746 - accuracy: 0.5577 - val_loss: 1.6181 - val_accuracy: 0.6410\n",
      "Epoch 6/25\n",
      "5/5 [==============================] - 1s 239ms/step - loss: 3.5763 - accuracy: 0.5769 - val_loss: 1.3787 - val_accuracy: 0.5385\n",
      "Epoch 7/25\n",
      "5/5 [==============================] - 1s 215ms/step - loss: 4.4454 - accuracy: 0.5833 - val_loss: 1.4638 - val_accuracy: 0.5897\n",
      "Epoch 8/25\n",
      "5/5 [==============================] - 1s 234ms/step - loss: 3.8803 - accuracy: 0.6090 - val_loss: 1.3864 - val_accuracy: 0.6410\n",
      "Epoch 9/25\n",
      "5/5 [==============================] - 1s 223ms/step - loss: 3.9829 - accuracy: 0.6603 - val_loss: 1.2970 - val_accuracy: 0.6923\n",
      "Epoch 10/25\n",
      "5/5 [==============================] - 1s 221ms/step - loss: 2.9491 - accuracy: 0.7051 - val_loss: 1.2476 - val_accuracy: 0.6410\n",
      "Epoch 11/25\n",
      "5/5 [==============================] - 1s 241ms/step - loss: 2.2150 - accuracy: 0.6603 - val_loss: 1.2639 - val_accuracy: 0.6667\n",
      "Epoch 12/25\n",
      "5/5 [==============================] - 1s 231ms/step - loss: 2.1068 - accuracy: 0.7244 - val_loss: 1.2646 - val_accuracy: 0.6923\n",
      "Epoch 13/25\n",
      "5/5 [==============================] - 1s 243ms/step - loss: 3.0915 - accuracy: 0.6538 - val_loss: 1.1895 - val_accuracy: 0.7436\n",
      "Epoch 14/25\n",
      "5/5 [==============================] - 1s 234ms/step - loss: 2.4518 - accuracy: 0.6987 - val_loss: 1.2140 - val_accuracy: 0.7692\n",
      "Epoch 15/25\n",
      "5/5 [==============================] - 1s 241ms/step - loss: 1.9525 - accuracy: 0.7308 - val_loss: 1.1878 - val_accuracy: 0.6923\n",
      "Epoch 16/25\n",
      "5/5 [==============================] - 1s 241ms/step - loss: 2.8293 - accuracy: 0.7179 - val_loss: 1.2105 - val_accuracy: 0.6923\n",
      "Epoch 17/25\n",
      "5/5 [==============================] - 1s 241ms/step - loss: 2.6363 - accuracy: 0.7244 - val_loss: 1.3192 - val_accuracy: 0.7692\n",
      "Epoch 18/25\n",
      "5/5 [==============================] - 1s 237ms/step - loss: 2.1353 - accuracy: 0.7692 - val_loss: 1.1939 - val_accuracy: 0.7436\n",
      "Epoch 19/25\n",
      "5/5 [==============================] - 1s 242ms/step - loss: 1.8994 - accuracy: 0.8013 - val_loss: 1.1533 - val_accuracy: 0.7179\n",
      "Epoch 20/25\n",
      "5/5 [==============================] - 1s 243ms/step - loss: 1.5490 - accuracy: 0.8333 - val_loss: 1.1297 - val_accuracy: 0.7692\n",
      "Epoch 21/25\n",
      "5/5 [==============================] - 1s 227ms/step - loss: 1.8155 - accuracy: 0.8141 - val_loss: 1.1204 - val_accuracy: 0.7692\n",
      "Epoch 22/25\n",
      "5/5 [==============================] - 1s 248ms/step - loss: 2.0458 - accuracy: 0.7372 - val_loss: 1.1394 - val_accuracy: 0.7692\n",
      "Epoch 23/25\n",
      "5/5 [==============================] - 1s 229ms/step - loss: 2.0244 - accuracy: 0.7372 - val_loss: 1.1693 - val_accuracy: 0.7692\n",
      "Epoch 24/25\n",
      "5/5 [==============================] - 1s 246ms/step - loss: 1.3311 - accuracy: 0.8205 - val_loss: 1.1168 - val_accuracy: 0.7692\n",
      "Epoch 25/25\n",
      "5/5 [==============================] - 1s 230ms/step - loss: 1.7987 - accuracy: 0.8013 - val_loss: 1.1580 - val_accuracy: 0.7692\n"
     ]
    }
   ],
   "source": [
    "history = model.fit(x_train, y1_train, epochs=25,verbose=1, validation_data=(x_test,y1_test))"
   ]
  },
  {
   "cell_type": "markdown",
   "metadata": {},
   "source": [
    "## Evaluate model"
   ]
  },
  {
   "cell_type": "code",
   "execution_count": 870,
   "metadata": {},
   "outputs": [
    {
     "name": "stdout",
     "output_type": "stream",
     "text": [
      "2/2 - 0s - loss: 1.1580 - accuracy: 0.7692\n",
      "\n",
      "Test accuracy: 0.7692307829856873\n"
     ]
    }
   ],
   "source": [
    "test_loss, test_acc = model.evaluate(x_test,  y1_test, verbose=2)\n",
    "\n",
    "print('\\nTest accuracy:', test_acc)"
   ]
  },
  {
   "cell_type": "code",
   "execution_count": 871,
   "metadata": {},
   "outputs": [
    {
     "data": {
      "text/plain": [
       "[<matplotlib.lines.Line2D at 0x2dc9202a748>]"
      ]
     },
     "execution_count": 871,
     "metadata": {},
     "output_type": "execute_result"
    },
    {
     "data": {
      "image/png": "[encoded data removed]",
      "text/plain": [
       "<Figure size 432x288 with 1 Axes>"
      ]
     },
     "metadata": {
      "needs_background": "light"
     },
     "output_type": "display_data"
    }
   ],
   "source": [
    "plt.plot(history.history['accuracy'])\n",
    "plt.plot(history.history['val_accuracy'])"
   ]
  },
  {
   "cell_type": "code",
   "execution_count": 872,
   "metadata": {},
   "outputs": [
    {
     "data": {
      "text/plain": [
       "[<matplotlib.lines.Line2D at 0x2dc920ada08>]"
      ]
     },
     "execution_count": 872,
     "metadata": {},
     "output_type": "execute_result"
    },
    {
     "data": {
      "image/png": "[encoded data removed]",
      "text/plain": [
       "<Figure size 432x288 with 1 Axes>"
      ]
     },
     "metadata": {
      "needs_background": "light"
     },
     "output_type": "display_data"
    }
   ],
   "source": [
    "plt.plot(history.history['loss'])\n",
    "plt.plot(history.history['val_loss'])\n"
   ]
  },
  {
   "cell_type": "markdown",
   "metadata": {},
   "source": [
    "file=\"C:\\\\Users\\\\tmacovei001\\\\Desktop\\\\Speaker Recognition\\\\Datasets\\\\Ravdess\\\\Unseen\\\\03-01-03-01-01-01-09.wav\""
   ]
  },
  {
   "cell_type": "markdown",
   "metadata": {},
   "source": [
    "file_temp,fs_temp=librosa.load(file, sr=fs)\n",
    "mfcc_test=librosa.feature.mfcc(file_temp,sr=fs, S=None, n_mfcc=no_mfcc)\n",
    "if (max_len > mfcc_test.shape[1]):\n",
    "    pad_width = max_len - mfcc_test.shape[1]\n",
    "    mfcc_test = np.pad(mfcc_test, pad_width=((0, 0), (0, pad_width)), mode='constant')\n",
    "else:\n",
    "    mfcc_test = mfcc_test[:, :max_len]\n",
    "\n",
    "mfcc_test=mfcc_test.reshape((1,40,x.shape[2],no_channels))"
   ]
  },
  {
   "cell_type": "markdown",
   "metadata": {},
   "source": [
    "probability_model = tf.keras.Sequential([model, \n",
    "                                         tf.keras.layers.Softmax()])\n",
    "\n",
    "predictions = probability_model.predict(mfcc_test)"
   ]
  },
  {
   "cell_type": "markdown",
   "metadata": {},
   "source": [
    "predictions[0]\n"
   ]
  },
  {
   "cell_type": "markdown",
   "metadata": {},
   "source": [
    "thisplot = plt.bar(range(2), 100*predictions[0])\n",
    "\n",
    "\n",
    "plt.show()"
   ]
  },
  {
   "cell_type": "code",
   "execution_count": 852,
   "metadata": {},
   "outputs": [],
   "source": [
    "from sklearn.metrics import f1_score, precision_score, recall_score, roc_auc_score"
   ]
  },
  {
   "cell_type": "code",
   "execution_count": 873,
   "metadata": {},
   "outputs": [
    {
     "name": "stdout",
     "output_type": "stream",
     "text": [
      "[1 2 0 1 0 2 0 1 0 2 0 0 1 0 2 0 1 0 2 2 0 0 0 1 2 2 1 0 0 0 0 2 0 2 2 1 0\n",
      " 1 2]\n",
      "[1, 1, 0, 1, 0, 2, 0, 1, 0, 2, 0, 0, 1, 0, 1, 0, 1, 0, 1, 2, 0, 0, 0, 1, 1, 1, 2, 0, 1, 0, 0, 2, 0, 2, 2, 2, 0, 2, 2]\n"
     ]
    }
   ],
   "source": [
    "probability_model = tf.keras.Sequential([model, \n",
    "                                         tf.keras.layers.Softmax()])\n",
    "predictions = probability_model.predict(x_test)\n",
    "\n",
    "ypred=[]\n",
    "for i in range(0,len(predictions)):\n",
    "    ypred.append(np.argmax(predictions[i]))\n",
    "y_pred=np.array(ypred)    \n",
    "\n",
    "y_true=np.argmax(y1_test, axis=1)\n",
    "print(np.array(y_true))\n",
    "print(ypred)"
   ]
  },
  {
   "cell_type": "code",
   "execution_count": 874,
   "metadata": {},
   "outputs": [
    {
     "data": {
      "text/plain": [
       "0.7692307692307693"
      ]
     },
     "execution_count": 874,
     "metadata": {},
     "output_type": "execute_result"
    }
   ],
   "source": [
    "f1_score(y_true, y_pred, average='micro')"
   ]
  },
  {
   "cell_type": "code",
   "execution_count": 875,
   "metadata": {},
   "outputs": [
    {
     "data": {
      "text/plain": [
       "0.7264069264069265"
      ]
     },
     "execution_count": 875,
     "metadata": {},
     "output_type": "execute_result"
    }
   ],
   "source": [
    "f1_score(y_true, y_pred, average='macro')"
   ]
  },
  {
   "cell_type": "code",
   "execution_count": 876,
   "metadata": {},
   "outputs": [
    {
     "data": {
      "text/plain": [
       "0.7692307692307693"
      ]
     },
     "execution_count": 876,
     "metadata": {},
     "output_type": "execute_result"
    }
   ],
   "source": [
    "precision_score(y_true, y_pred, average='micro')"
   ]
  },
  {
   "cell_type": "code",
   "execution_count": 877,
   "metadata": {},
   "outputs": [
    {
     "data": {
      "text/plain": [
       "0.7333333333333334"
      ]
     },
     "execution_count": 877,
     "metadata": {},
     "output_type": "execute_result"
    }
   ],
   "source": [
    "precision_score(y_true, y_pred, average='macro')"
   ]
  },
  {
   "cell_type": "code",
   "execution_count": 878,
   "metadata": {},
   "outputs": [
    {
     "data": {
      "text/plain": [
       "0.7692307692307693"
      ]
     },
     "execution_count": 878,
     "metadata": {},
     "output_type": "execute_result"
    }
   ],
   "source": [
    "recall_score(y_true, y_pred, average='micro')"
   ]
  },
  {
   "cell_type": "code",
   "execution_count": 879,
   "metadata": {},
   "outputs": [
    {
     "data": {
      "text/plain": [
       "0.7314814814814815"
      ]
     },
     "execution_count": 879,
     "metadata": {},
     "output_type": "execute_result"
    }
   ],
   "source": [
    "recall_score(y_true, y_pred, average='macro')"
   ]
  },
  {
   "cell_type": "code",
   "execution_count": null,
   "metadata": {},
   "outputs": [],
   "source": []
  },
  {
   "cell_type": "code",
   "execution_count": null,
   "metadata": {},
   "outputs": [],
   "source": []
  },
  {
   "cell_type": "code",
   "execution_count": 860,
   "metadata": {},
   "outputs": [],
   "source": [
    "from sklearn.metrics import confusion_matrix"
   ]
  },
  {
   "cell_type": "code",
   "execution_count": 880,
   "metadata": {},
   "outputs": [],
   "source": [
    "probability_model = tf.keras.Sequential([model, \n",
    "                                         tf.keras.layers.Softmax()])\n",
    "predictions = probability_model.predict(x_test)"
   ]
  },
  {
   "cell_type": "code",
   "execution_count": 881,
   "metadata": {},
   "outputs": [
    {
     "data": {
      "text/plain": [
       "array([[17,  1,  0],\n",
       "       [ 0,  6,  3],\n",
       "       [ 0,  5,  7]], dtype=int64)"
      ]
     },
     "execution_count": 881,
     "metadata": {},
     "output_type": "execute_result"
    }
   ],
   "source": [
    "y_pred = np.argmax(predictions, axis=1)\n",
    "rounded_labels=np.argmax(y1_test, axis=1)\n",
    "rounded_labels[1]\n",
    "\n",
    "cnf_matrix = confusion_matrix(rounded_labels, y_pred)\n",
    "cnf_matrix"
   ]
  },
  {
   "cell_type": "code",
   "execution_count": 551,
   "metadata": {},
   "outputs": [
    {
     "ename": "NameError",
     "evalue": "name 'sns' is not defined",
     "output_type": "error",
     "traceback": [
      "\u001b[1;31m---------------------------------------------------------------------------\u001b[0m",
      "\u001b[1;31mNameError\u001b[0m                                 Traceback (most recent call last)",
      "\u001b[1;32m<ipython-input-551-9d4d9428099b>\u001b[0m in \u001b[0;36m<module>\u001b[1;34m\u001b[0m\n\u001b[1;32m----> 1\u001b[1;33m \u001b[0msns\u001b[0m\u001b[1;33m.\u001b[0m\u001b[0mheatmap\u001b[0m\u001b[1;33m(\u001b[0m\u001b[0mcnf_matrix\u001b[0m\u001b[1;33m,\u001b[0m\u001b[0mannot\u001b[0m\u001b[1;33m=\u001b[0m\u001b[1;32mTrue\u001b[0m\u001b[1;33m)\u001b[0m\u001b[1;33m\u001b[0m\u001b[1;33m\u001b[0m\u001b[0m\n\u001b[0m",
      "\u001b[1;31mNameError\u001b[0m: name 'sns' is not defined"
     ]
    }
   ],
   "source": [
    "\n",
    "sns.heatmap(cnf_matrix,annot=True)"
   ]
  },
  {
   "cell_type": "code",
   "execution_count": null,
   "metadata": {},
   "outputs": [],
   "source": []
  },
  {
   "cell_type": "code",
   "execution_count": 882,
   "metadata": {},
   "outputs": [
    {
     "name": "stdout",
     "output_type": "stream",
     "text": [
      "INFO:tensorflow:Assets written to: emotion_model\\assets\n"
     ]
    }
   ],
   "source": [
    "model.save('emotion_model')"
   ]
  },
  {
   "cell_type": "code",
   "execution_count": null,
   "metadata": {},
   "outputs": [],
   "source": []
  }
 ],
 "metadata": {
  "kernelspec": {
   "display_name": "Python 3",
   "language": "python",
   "name": "python3"
  },
  "language_info": {
   "codemirror_mode": {
    "name": "ipython",
    "version": 3
   },
   "file_extension": ".py",
   "mimetype": "text/x-python",
   "name": "python",
   "nbconvert_exporter": "python",
   "pygments_lexer": "ipython3",
   "version": "3.7.7"
  }
 },
 "nbformat": 4,
 "nbformat_minor": 2
}
